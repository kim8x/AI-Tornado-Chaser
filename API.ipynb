{
  "cells": [
    {
      "cell_type": "code",
      "id": "initial_id",
      "metadata": {
        "collapsed": true,
        "jupyter": {
          "is_executing": true
        },
        "ExecuteTime": {
          "start_time": "2025-06-08T10:49:41.578590Z"
        },
        "id": "initial_id",
        "outputId": "72f619a7-5317-4501-b255-d56ae7472569"
      },
      "source": [
        "# model_api.py\n",
        "from flask import Flask, request, jsonify\n",
        "  # importer ton modèle ici\n",
        "\n",
        "app = Flask(__name__)\n",
        "\n",
        "@app.route('/predict', methods=['POST'])\n",
        "def predict():\n",
        "    data = request.get_json()\n",
        "    input_data = data['input']\n",
        "    input_array = np.array(input_data, dtype=np.float32)\n",
        "\n",
        "    horizon = 10\n",
        "    preds = predict_horizon(\"bilstm_model.h5\", input_array, horizon, scaler_path='scaler.pkl')\n",
        "\n",
        "\n",
        "    # Supposons que ton modèle renvoie une séquence\n",
        "\n",
        "    return jsonify({'sequence': preds.tolist() })\n",
        "\n",
        "if __name__ == '__main__':\n",
        "    app.run(host='0.0.0.0', port=5000)\n"
      ],
      "outputs": [
        {
          "name": "stdout",
          "output_type": "stream",
          "text": [
            " * Serving Flask app '__main__'\n",
            " * Debug mode: off\n"
          ]
        },
        {
          "name": "stderr",
          "output_type": "stream",
          "text": [
            "WARNING: This is a development server. Do not use it in a production deployment. Use a production WSGI server instead.\n",
            " * Running on all addresses (0.0.0.0)\n",
            " * Running on http://127.0.0.1:5000\n",
            " * Running on http://192.168.1.104:5000\n",
            "Press CTRL+C to quit\n"
          ]
        }
      ],
      "execution_count": null
    },
    {
      "metadata": {
        "ExecuteTime": {
          "end_time": "2025-06-08T10:49:34.479873Z",
          "start_time": "2025-06-08T10:48:25.353669Z"
        },
        "id": "c40f6ad27a71d64c"
      },
      "cell_type": "code",
      "source": [
        "import pickle\n",
        "import numpy as np\n",
        "from tensorflow.keras.models import load_model\n",
        "from tensorflow.keras.models import load_model\n",
        "from tensorflow.keras.losses import MeanSquaredError\n",
        "from tensorflow.keras.metrics import MeanAbsoluteError\n",
        "from tensorflow.keras.optimizers import Adam\n",
        "\n",
        "\n",
        "def predict_horizon(model_path, seed_sequence, horizon, scaler_path='scaler.pkl'):\n",
        "    # 1) Load model\n",
        "    # 1) Load the model without trying to resolve the old metric\n",
        "    model = load_model(model_path, compile=False)\n",
        "    model.compile(optimizer='adam', loss='mse', metrics=['mae'])\n",
        "\n",
        "    # 2) Load scaler\n",
        "    with open(scaler_path, 'rb') as f:\n",
        "        scaler = pickle.load(f)\n",
        "\n",
        "    # 3) Scale the seed_sequence\n",
        "    # seed_sequence: shape (seq_len, n_features)\n",
        "    seed_scaled = scaler.transform(seed_sequence)\n",
        "\n",
        "    seq_len, n_features = seed_sequence.shape\n",
        "    buffer = seed_scaled.copy()\n",
        "\n",
        "    preds_scaled = []\n",
        "\n",
        "    for _ in range(horizon):\n",
        "        x = buffer.reshape((1, seq_len, n_features))\n",
        "        yhat = model.predict(x, verbose=0)[0]   # shape = (n_features,)\n",
        "        preds_scaled.append(yhat)\n",
        "        buffer = np.vstack([buffer[1:], yhat])\n",
        "\n",
        "    preds_scaled = np.array(preds_scaled)       # shape = (horizon, n_features)\n",
        "\n",
        "    # 4) Inverse-transform predictions\n",
        "    preds = scaler.inverse_transform(preds_scaled)\n",
        "    return preds\n",
        "\n"
      ],
      "id": "c40f6ad27a71d64c",
      "outputs": [],
      "execution_count": null
    },
    {
      "metadata": {
        "ExecuteTime": {
          "end_time": "2025-06-07T19:13:58.269408Z",
          "start_time": "2025-06-07T19:13:56.939351Z"
        },
        "id": "2832caa69281bc56",
        "outputId": "560abe61-b407-4af8-85af-0b1aee036ec7"
      },
      "cell_type": "code",
      "source": [
        "if __name__ == \"__main__\":\n",
        "    # Suppose your sequence length is 5, features=2 (lat, lon)\n",
        "    seed = np.array([\n",
        "        [57, 1399],\n",
        "        [59, 1393],\n",
        "        [63, 1387],\n",
        "        [67, 1380],\n",
        "        [72, 1373],\n",
        "    ], dtype='float32')\n",
        "\n",
        "    future_steps = 10\n",
        "    preds = predict_horizon(\"bilstm_model.h5\", seed, future_steps)\n",
        "    print(\"Predicted next points:\\n\", preds)"
      ],
      "id": "2832caa69281bc56",
      "outputs": [
        {
          "name": "stderr",
          "output_type": "stream",
          "text": [
            "D:\\python\\Lib\\site-packages\\sklearn\\base.py:376: InconsistentVersionWarning: Trying to unpickle estimator MinMaxScaler from version 1.6.1 when using version 1.5.2. This might lead to breaking code or invalid results. Use at your own risk. For more info please refer to:\n",
            "https://scikit-learn.org/stable/model_persistence.html#security-maintainability-limitations\n",
            "  warnings.warn(\n",
            "D:\\python\\Lib\\site-packages\\sklearn\\base.py:493: UserWarning: X does not have valid feature names, but MinMaxScaler was fitted with feature names\n",
            "  warnings.warn(\n"
          ]
        },
        {
          "name": "stdout",
          "output_type": "stream",
          "text": [
            "Predicted next points:\n",
            " [[  77.78668  1365.6927  ]\n",
            " [  84.0671   1358.181   ]\n",
            " [  90.64189  1350.495   ]\n",
            " [  97.18059  1342.7139  ]\n",
            " [ 103.438965 1334.9149  ]\n",
            " [ 109.43704  1327.1766  ]\n",
            " [ 115.21652  1319.5929  ]\n",
            " [ 120.794106 1312.2361  ]\n",
            " [ 126.18649  1305.1686  ]\n",
            " [ 131.4094   1298.449   ]]\n"
          ]
        }
      ],
      "execution_count": null
    }
  ],
  "metadata": {
    "kernelspec": {
      "display_name": "Python 3",
      "language": "python",
      "name": "python3"
    },
    "language_info": {
      "codemirror_mode": {
        "name": "ipython",
        "version": 2
      },
      "file_extension": ".py",
      "mimetype": "text/x-python",
      "name": "python",
      "nbconvert_exporter": "python",
      "pygments_lexer": "ipython2",
      "version": "2.7.6"
    },
    "colab": {
      "provenance": []
    }
  },
  "nbformat": 4,
  "nbformat_minor": 5
}