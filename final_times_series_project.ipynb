{
  "nbformat": 4,
  "nbformat_minor": 0,
  "metadata": {
    "colab": {
      "provenance": []
    },
    "kernelspec": {
      "name": "python3",
      "display_name": "Python 3"
    },
    "language_info": {
      "name": "python"
    }
  },
  "cells": [
    {
      "cell_type": "markdown",
      "source": [
        "**Importer les bibliotheques necessaires**"
      ],
      "metadata": {
        "id": "1V5tYH7IRbCF"
      }
    },
    {
      "cell_type": "code",
      "source": [
        "from google.colab import drive\n",
        "import zipfile\n",
        "import pandas as pd\n",
        "import numpy as np\n",
        "from tensorflow.keras.models import Sequential\n",
        "from tensorflow.keras.optimizers import Adam\n",
        "from sklearn.model_selection import train_test_split\n",
        "from tensorflow.keras.metrics import MeanSquaredError, MeanAbsoluteError\n",
        "from sklearn.preprocessing import MinMaxScaler\n",
        "import tensorflow as tf\n",
        "from tensorflow.keras.layers import LSTM, GRU, Dense, Dropout, Conv1D, Flatten, Input, MaxPooling1D, Bidirectional, Reshape, SimpleRNN\n",
        "from sklearn.metrics import mean_absolute_error, mean_squared_error\n",
        "import os\n",
        "import random"
      ],
      "metadata": {
        "id": "lYhTIMe1Raj8"
      },
      "execution_count": null,
      "outputs": []
    },
    {
      "cell_type": "markdown",
      "source": [
        "**Chargement des donnes**"
      ],
      "metadata": {
        "id": "YwwaGsSZOn1O"
      }
    },
    {
      "cell_type": "code",
      "source": [
        "drive.mount('/content/drive')\n",
        "df = pd.read_csv('/content/drive/MyDrive/time series project/best_track.csv')\n",
        "df.head()"
      ],
      "metadata": {
        "colab": {
          "base_uri": "https://localhost:8080/",
          "height": 244
        },
        "id": "7PNgXHi7OnUC",
        "outputId": "7d4fa4ac-5524-4e6e-dcf6-78ecbcab8b1a"
      },
      "execution_count": null,
      "outputs": [
        {
          "output_type": "stream",
          "name": "stdout",
          "text": [
            "Drive already mounted at /content/drive; to attempt to forcibly remount, call drive.mount(\"/content/drive\", force_remount=True).\n"
          ]
        },
        {
          "output_type": "execute_result",
          "data": {
            "text/plain": [
              "  cyclone_id    datetime  flag  intensity  latitude  longitude  \\\n",
              "0  CYC000001  1949011300     0          0        57       1399   \n",
              "1  CYC000001  1949011306     0          0        59       1393   \n",
              "2  CYC000001  1949011312     0          0        63       1387   \n",
              "3  CYC000001  1949011318     0          0        67       1380   \n",
              "4  CYC000001  1949011400     0          0        72       1373   \n",
              "\n",
              "   num_data_lines  pressure  revision_date storm_name  time_interval  \\\n",
              "0              49      1006     20110729.0     Carmen              6   \n",
              "1              49      1006     20110729.0     Carmen              6   \n",
              "2              49      1006     20110729.0     Carmen              6   \n",
              "3              49      1006     20110729.0     Carmen              6   \n",
              "4              49      1005     20110729.0     Carmen              6   \n",
              "\n",
              "   track_sequence  wind  \n",
              "0               1     0  \n",
              "1               2     0  \n",
              "2               3     0  \n",
              "3               4     0  \n",
              "4               5     0  "
            ],
            "text/html": [
              "\n",
              "  <div id=\"df-0727c645-8795-4eb8-9e39-86cbe5e91e1e\" class=\"colab-df-container\">\n",
              "    <div>\n",
              "<style scoped>\n",
              "    .dataframe tbody tr th:only-of-type {\n",
              "        vertical-align: middle;\n",
              "    }\n",
              "\n",
              "    .dataframe tbody tr th {\n",
              "        vertical-align: top;\n",
              "    }\n",
              "\n",
              "    .dataframe thead th {\n",
              "        text-align: right;\n",
              "    }\n",
              "</style>\n",
              "<table border=\"1\" class=\"dataframe\">\n",
              "  <thead>\n",
              "    <tr style=\"text-align: right;\">\n",
              "      <th></th>\n",
              "      <th>cyclone_id</th>\n",
              "      <th>datetime</th>\n",
              "      <th>flag</th>\n",
              "      <th>intensity</th>\n",
              "      <th>latitude</th>\n",
              "      <th>longitude</th>\n",
              "      <th>num_data_lines</th>\n",
              "      <th>pressure</th>\n",
              "      <th>revision_date</th>\n",
              "      <th>storm_name</th>\n",
              "      <th>time_interval</th>\n",
              "      <th>track_sequence</th>\n",
              "      <th>wind</th>\n",
              "    </tr>\n",
              "  </thead>\n",
              "  <tbody>\n",
              "    <tr>\n",
              "      <th>0</th>\n",
              "      <td>CYC000001</td>\n",
              "      <td>1949011300</td>\n",
              "      <td>0</td>\n",
              "      <td>0</td>\n",
              "      <td>57</td>\n",
              "      <td>1399</td>\n",
              "      <td>49</td>\n",
              "      <td>1006</td>\n",
              "      <td>20110729.0</td>\n",
              "      <td>Carmen</td>\n",
              "      <td>6</td>\n",
              "      <td>1</td>\n",
              "      <td>0</td>\n",
              "    </tr>\n",
              "    <tr>\n",
              "      <th>1</th>\n",
              "      <td>CYC000001</td>\n",
              "      <td>1949011306</td>\n",
              "      <td>0</td>\n",
              "      <td>0</td>\n",
              "      <td>59</td>\n",
              "      <td>1393</td>\n",
              "      <td>49</td>\n",
              "      <td>1006</td>\n",
              "      <td>20110729.0</td>\n",
              "      <td>Carmen</td>\n",
              "      <td>6</td>\n",
              "      <td>2</td>\n",
              "      <td>0</td>\n",
              "    </tr>\n",
              "    <tr>\n",
              "      <th>2</th>\n",
              "      <td>CYC000001</td>\n",
              "      <td>1949011312</td>\n",
              "      <td>0</td>\n",
              "      <td>0</td>\n",
              "      <td>63</td>\n",
              "      <td>1387</td>\n",
              "      <td>49</td>\n",
              "      <td>1006</td>\n",
              "      <td>20110729.0</td>\n",
              "      <td>Carmen</td>\n",
              "      <td>6</td>\n",
              "      <td>3</td>\n",
              "      <td>0</td>\n",
              "    </tr>\n",
              "    <tr>\n",
              "      <th>3</th>\n",
              "      <td>CYC000001</td>\n",
              "      <td>1949011318</td>\n",
              "      <td>0</td>\n",
              "      <td>0</td>\n",
              "      <td>67</td>\n",
              "      <td>1380</td>\n",
              "      <td>49</td>\n",
              "      <td>1006</td>\n",
              "      <td>20110729.0</td>\n",
              "      <td>Carmen</td>\n",
              "      <td>6</td>\n",
              "      <td>4</td>\n",
              "      <td>0</td>\n",
              "    </tr>\n",
              "    <tr>\n",
              "      <th>4</th>\n",
              "      <td>CYC000001</td>\n",
              "      <td>1949011400</td>\n",
              "      <td>0</td>\n",
              "      <td>0</td>\n",
              "      <td>72</td>\n",
              "      <td>1373</td>\n",
              "      <td>49</td>\n",
              "      <td>1005</td>\n",
              "      <td>20110729.0</td>\n",
              "      <td>Carmen</td>\n",
              "      <td>6</td>\n",
              "      <td>5</td>\n",
              "      <td>0</td>\n",
              "    </tr>\n",
              "  </tbody>\n",
              "</table>\n",
              "</div>\n",
              "    <div class=\"colab-df-buttons\">\n",
              "\n",
              "  <div class=\"colab-df-container\">\n",
              "    <button class=\"colab-df-convert\" onclick=\"convertToInteractive('df-0727c645-8795-4eb8-9e39-86cbe5e91e1e')\"\n",
              "            title=\"Convert this dataframe to an interactive table.\"\n",
              "            style=\"display:none;\">\n",
              "\n",
              "  <svg xmlns=\"http://www.w3.org/2000/svg\" height=\"24px\" viewBox=\"0 -960 960 960\">\n",
              "    <path d=\"M120-120v-720h720v720H120Zm60-500h600v-160H180v160Zm220 220h160v-160H400v160Zm0 220h160v-160H400v160ZM180-400h160v-160H180v160Zm440 0h160v-160H620v160ZM180-180h160v-160H180v160Zm440 0h160v-160H620v160Z\"/>\n",
              "  </svg>\n",
              "    </button>\n",
              "\n",
              "  <style>\n",
              "    .colab-df-container {\n",
              "      display:flex;\n",
              "      gap: 12px;\n",
              "    }\n",
              "\n",
              "    .colab-df-convert {\n",
              "      background-color: #E8F0FE;\n",
              "      border: none;\n",
              "      border-radius: 50%;\n",
              "      cursor: pointer;\n",
              "      display: none;\n",
              "      fill: #1967D2;\n",
              "      height: 32px;\n",
              "      padding: 0 0 0 0;\n",
              "      width: 32px;\n",
              "    }\n",
              "\n",
              "    .colab-df-convert:hover {\n",
              "      background-color: #E2EBFA;\n",
              "      box-shadow: 0px 1px 2px rgba(60, 64, 67, 0.3), 0px 1px 3px 1px rgba(60, 64, 67, 0.15);\n",
              "      fill: #174EA6;\n",
              "    }\n",
              "\n",
              "    .colab-df-buttons div {\n",
              "      margin-bottom: 4px;\n",
              "    }\n",
              "\n",
              "    [theme=dark] .colab-df-convert {\n",
              "      background-color: #3B4455;\n",
              "      fill: #D2E3FC;\n",
              "    }\n",
              "\n",
              "    [theme=dark] .colab-df-convert:hover {\n",
              "      background-color: #434B5C;\n",
              "      box-shadow: 0px 1px 3px 1px rgba(0, 0, 0, 0.15);\n",
              "      filter: drop-shadow(0px 1px 2px rgba(0, 0, 0, 0.3));\n",
              "      fill: #FFFFFF;\n",
              "    }\n",
              "  </style>\n",
              "\n",
              "    <script>\n",
              "      const buttonEl =\n",
              "        document.querySelector('#df-0727c645-8795-4eb8-9e39-86cbe5e91e1e button.colab-df-convert');\n",
              "      buttonEl.style.display =\n",
              "        google.colab.kernel.accessAllowed ? 'block' : 'none';\n",
              "\n",
              "      async function convertToInteractive(key) {\n",
              "        const element = document.querySelector('#df-0727c645-8795-4eb8-9e39-86cbe5e91e1e');\n",
              "        const dataTable =\n",
              "          await google.colab.kernel.invokeFunction('convertToInteractive',\n",
              "                                                    [key], {});\n",
              "        if (!dataTable) return;\n",
              "\n",
              "        const docLinkHtml = 'Like what you see? Visit the ' +\n",
              "          '<a target=\"_blank\" href=https://colab.research.google.com/notebooks/data_table.ipynb>data table notebook</a>'\n",
              "          + ' to learn more about interactive tables.';\n",
              "        element.innerHTML = '';\n",
              "        dataTable['output_type'] = 'display_data';\n",
              "        await google.colab.output.renderOutput(dataTable, element);\n",
              "        const docLink = document.createElement('div');\n",
              "        docLink.innerHTML = docLinkHtml;\n",
              "        element.appendChild(docLink);\n",
              "      }\n",
              "    </script>\n",
              "  </div>\n",
              "\n",
              "\n",
              "    <div id=\"df-9d32481e-f192-44a4-90a6-ca4728ee5b83\">\n",
              "      <button class=\"colab-df-quickchart\" onclick=\"quickchart('df-9d32481e-f192-44a4-90a6-ca4728ee5b83')\"\n",
              "                title=\"Suggest charts\"\n",
              "                style=\"display:none;\">\n",
              "\n",
              "<svg xmlns=\"http://www.w3.org/2000/svg\" height=\"24px\"viewBox=\"0 0 24 24\"\n",
              "     width=\"24px\">\n",
              "    <g>\n",
              "        <path d=\"M19 3H5c-1.1 0-2 .9-2 2v14c0 1.1.9 2 2 2h14c1.1 0 2-.9 2-2V5c0-1.1-.9-2-2-2zM9 17H7v-7h2v7zm4 0h-2V7h2v10zm4 0h-2v-4h2v4z\"/>\n",
              "    </g>\n",
              "</svg>\n",
              "      </button>\n",
              "\n",
              "<style>\n",
              "  .colab-df-quickchart {\n",
              "      --bg-color: #E8F0FE;\n",
              "      --fill-color: #1967D2;\n",
              "      --hover-bg-color: #E2EBFA;\n",
              "      --hover-fill-color: #174EA6;\n",
              "      --disabled-fill-color: #AAA;\n",
              "      --disabled-bg-color: #DDD;\n",
              "  }\n",
              "\n",
              "  [theme=dark] .colab-df-quickchart {\n",
              "      --bg-color: #3B4455;\n",
              "      --fill-color: #D2E3FC;\n",
              "      --hover-bg-color: #434B5C;\n",
              "      --hover-fill-color: #FFFFFF;\n",
              "      --disabled-bg-color: #3B4455;\n",
              "      --disabled-fill-color: #666;\n",
              "  }\n",
              "\n",
              "  .colab-df-quickchart {\n",
              "    background-color: var(--bg-color);\n",
              "    border: none;\n",
              "    border-radius: 50%;\n",
              "    cursor: pointer;\n",
              "    display: none;\n",
              "    fill: var(--fill-color);\n",
              "    height: 32px;\n",
              "    padding: 0;\n",
              "    width: 32px;\n",
              "  }\n",
              "\n",
              "  .colab-df-quickchart:hover {\n",
              "    background-color: var(--hover-bg-color);\n",
              "    box-shadow: 0 1px 2px rgba(60, 64, 67, 0.3), 0 1px 3px 1px rgba(60, 64, 67, 0.15);\n",
              "    fill: var(--button-hover-fill-color);\n",
              "  }\n",
              "\n",
              "  .colab-df-quickchart-complete:disabled,\n",
              "  .colab-df-quickchart-complete:disabled:hover {\n",
              "    background-color: var(--disabled-bg-color);\n",
              "    fill: var(--disabled-fill-color);\n",
              "    box-shadow: none;\n",
              "  }\n",
              "\n",
              "  .colab-df-spinner {\n",
              "    border: 2px solid var(--fill-color);\n",
              "    border-color: transparent;\n",
              "    border-bottom-color: var(--fill-color);\n",
              "    animation:\n",
              "      spin 1s steps(1) infinite;\n",
              "  }\n",
              "\n",
              "  @keyframes spin {\n",
              "    0% {\n",
              "      border-color: transparent;\n",
              "      border-bottom-color: var(--fill-color);\n",
              "      border-left-color: var(--fill-color);\n",
              "    }\n",
              "    20% {\n",
              "      border-color: transparent;\n",
              "      border-left-color: var(--fill-color);\n",
              "      border-top-color: var(--fill-color);\n",
              "    }\n",
              "    30% {\n",
              "      border-color: transparent;\n",
              "      border-left-color: var(--fill-color);\n",
              "      border-top-color: var(--fill-color);\n",
              "      border-right-color: var(--fill-color);\n",
              "    }\n",
              "    40% {\n",
              "      border-color: transparent;\n",
              "      border-right-color: var(--fill-color);\n",
              "      border-top-color: var(--fill-color);\n",
              "    }\n",
              "    60% {\n",
              "      border-color: transparent;\n",
              "      border-right-color: var(--fill-color);\n",
              "    }\n",
              "    80% {\n",
              "      border-color: transparent;\n",
              "      border-right-color: var(--fill-color);\n",
              "      border-bottom-color: var(--fill-color);\n",
              "    }\n",
              "    90% {\n",
              "      border-color: transparent;\n",
              "      border-bottom-color: var(--fill-color);\n",
              "    }\n",
              "  }\n",
              "</style>\n",
              "\n",
              "      <script>\n",
              "        async function quickchart(key) {\n",
              "          const quickchartButtonEl =\n",
              "            document.querySelector('#' + key + ' button');\n",
              "          quickchartButtonEl.disabled = true;  // To prevent multiple clicks.\n",
              "          quickchartButtonEl.classList.add('colab-df-spinner');\n",
              "          try {\n",
              "            const charts = await google.colab.kernel.invokeFunction(\n",
              "                'suggestCharts', [key], {});\n",
              "          } catch (error) {\n",
              "            console.error('Error during call to suggestCharts:', error);\n",
              "          }\n",
              "          quickchartButtonEl.classList.remove('colab-df-spinner');\n",
              "          quickchartButtonEl.classList.add('colab-df-quickchart-complete');\n",
              "        }\n",
              "        (() => {\n",
              "          let quickchartButtonEl =\n",
              "            document.querySelector('#df-9d32481e-f192-44a4-90a6-ca4728ee5b83 button');\n",
              "          quickchartButtonEl.style.display =\n",
              "            google.colab.kernel.accessAllowed ? 'block' : 'none';\n",
              "        })();\n",
              "      </script>\n",
              "    </div>\n",
              "\n",
              "    </div>\n",
              "  </div>\n"
            ],
            "application/vnd.google.colaboratory.intrinsic+json": {
              "type": "dataframe",
              "variable_name": "df",
              "summary": "{\n  \"name\": \"df\",\n  \"rows\": 72494,\n  \"fields\": [\n    {\n      \"column\": \"cyclone_id\",\n      \"properties\": {\n        \"dtype\": \"category\",\n        \"num_unique_values\": 2489,\n        \"samples\": [\n          \"CYC001058\",\n          \"CYC000479\",\n          \"CYC000977\"\n        ],\n        \"semantic_type\": \"\",\n        \"description\": \"\"\n      }\n    },\n    {\n      \"column\": \"datetime\",\n      \"properties\": {\n        \"dtype\": \"number\",\n        \"std\": 21375235,\n        \"min\": 1949011300,\n        \"max\": 2023121812,\n        \"num_unique_values\": 48206,\n        \"samples\": [\n          1996051918,\n          1949071200,\n          1996040300\n        ],\n        \"semantic_type\": \"\",\n        \"description\": \"\"\n      }\n    },\n    {\n      \"column\": \"flag\",\n      \"properties\": {\n        \"dtype\": \"number\",\n        \"std\": 0,\n        \"min\": 0,\n        \"max\": 3,\n        \"num_unique_values\": 4,\n        \"samples\": [\n          1,\n          3,\n          0\n        ],\n        \"semantic_type\": \"\",\n        \"description\": \"\"\n      }\n    },\n    {\n      \"column\": \"intensity\",\n      \"properties\": {\n        \"dtype\": \"number\",\n        \"std\": 2,\n        \"min\": 0,\n        \"max\": 9,\n        \"num_unique_values\": 8,\n        \"samples\": [\n          1,\n          5,\n          0\n        ],\n        \"semantic_type\": \"\",\n        \"description\": \"\"\n      }\n    },\n    {\n      \"column\": \"latitude\",\n      \"properties\": {\n        \"dtype\": \"number\",\n        \"std\": 92,\n        \"min\": 5,\n        \"max\": 701,\n        \"num_unique_values\": 585,\n        \"samples\": [\n          475,\n          54,\n          65\n        ],\n        \"semantic_type\": \"\",\n        \"description\": \"\"\n      }\n    },\n    {\n      \"column\": \"longitude\",\n      \"properties\": {\n        \"dtype\": \"number\",\n        \"std\": 167,\n        \"min\": 950,\n        \"max\": 2550,\n        \"num_unique_values\": 1055,\n        \"samples\": [\n          1493,\n          988,\n          1910\n        ],\n        \"semantic_type\": \"\",\n        \"description\": \"\"\n      }\n    },\n    {\n      \"column\": \"num_data_lines\",\n      \"properties\": {\n        \"dtype\": \"number\",\n        \"std\": 15,\n        \"min\": 1,\n        \"max\": 101,\n        \"num_unique_values\": 83,\n        \"samples\": [\n          41,\n          49,\n          42\n        ],\n        \"semantic_type\": \"\",\n        \"description\": \"\"\n      }\n    },\n    {\n      \"column\": \"pressure\",\n      \"properties\": {\n        \"dtype\": \"number\",\n        \"std\": 21,\n        \"min\": 870,\n        \"max\": 1022,\n        \"num_unique_values\": 143,\n        \"samples\": [\n          902,\n          960,\n          887\n        ],\n        \"semantic_type\": \"\",\n        \"description\": \"\"\n      }\n    },\n    {\n      \"column\": \"revision_date\",\n      \"properties\": {\n        \"dtype\": \"number\",\n        \"std\": 29153.555799215013,\n        \"min\": 20100317.0,\n        \"max\": 20240322.0,\n        \"num_unique_values\": 22,\n        \"samples\": [\n          20110729.0,\n          20180501.0,\n          20131118.0\n        ],\n        \"semantic_type\": \"\",\n        \"description\": \"\"\n      }\n    },\n    {\n      \"column\": \"storm_name\",\n      \"properties\": {\n        \"dtype\": \"category\",\n        \"num_unique_values\": 674,\n        \"samples\": [\n          \"GAEMI\",\n          \"LISA\",\n          \"SOULIK\"\n        ],\n        \"semantic_type\": \"\",\n        \"description\": \"\"\n      }\n    },\n    {\n      \"column\": \"time_interval\",\n      \"properties\": {\n        \"dtype\": \"number\",\n        \"std\": 0,\n        \"min\": 1,\n        \"max\": 6,\n        \"num_unique_values\": 4,\n        \"samples\": [\n          1,\n          2,\n          6\n        ],\n        \"semantic_type\": \"\",\n        \"description\": \"\"\n      }\n    },\n    {\n      \"column\": \"track_sequence\",\n      \"properties\": {\n        \"dtype\": \"number\",\n        \"std\": 13,\n        \"min\": 1,\n        \"max\": 101,\n        \"num_unique_values\": 101,\n        \"samples\": [\n          85,\n          56,\n          67\n        ],\n        \"semantic_type\": \"\",\n        \"description\": \"\"\n      }\n    },\n    {\n      \"column\": \"wind\",\n      \"properties\": {\n        \"dtype\": \"number\",\n        \"std\": 15,\n        \"min\": 0,\n        \"max\": 110,\n        \"num_unique_values\": 45,\n        \"samples\": [\n          8,\n          23,\n          33\n        ],\n        \"semantic_type\": \"\",\n        \"description\": \"\"\n      }\n    }\n  ]\n}"
            }
          },
          "metadata": {},
          "execution_count": 5
        }
      ]
    },
    {
      "cell_type": "code",
      "source": [
        "import pickle\n",
        "scaler = MinMaxScaler()\n",
        "df[['latitude', 'longitude']] = scaler.fit_transform(df[['latitude', 'longitude']])\n",
        "with open('scaler.pkl', 'wb') as f:\n",
        "    pickle.dump(scaler, f)\n"
      ],
      "metadata": {
        "id": "T9B_JMPOqjJV"
      },
      "execution_count": null,
      "outputs": []
    },
    {
      "cell_type": "markdown",
      "source": [
        "**Determiner le meilleur model**"
      ],
      "metadata": {
        "id": "p7j_8oL7RQKq"
      }
    },
    {
      "cell_type": "markdown",
      "source": [
        "helper fuctions"
      ],
      "metadata": {
        "id": "abwhoLZnEmmE"
      }
    },
    {
      "cell_type": "code",
      "source": [
        "def reshape_for_mlp(X):\n",
        "    return X.reshape((X.shape[0], -1))\n",
        "\n",
        "def create_sequences(data, seq_length):\n",
        "    xs = []\n",
        "    ys = []\n",
        "    for i in range(len(data) - seq_length - 1):\n",
        "        # Input sequence with both lat and long\n",
        "        x = data[i:i + seq_length][['latitude', 'longitude']].values\n",
        "        # Output is both lat and long for the next position\n",
        "        y = data.iloc[i + seq_length][['latitude', 'longitude']].values\n",
        "        xs.append(x)\n",
        "        ys.append(y)\n",
        "    # Return numpy arrays if sequences were created, otherwise return empty lists\n",
        "    if xs and ys:\n",
        "        return np.array(xs), np.array(ys)\n",
        "    else:\n",
        "        return [], []\n",
        "\n",
        "def train_model(df, model, seq_length = 5 ,epochs=10, batch_size=16 , seed = 42):\n",
        "\n",
        "  # Set seeds for reproducibility\n",
        "    os.environ['PYTHONHASHSEED'] = str(seed)\n",
        "    random.seed(seed)\n",
        "    np.random.seed(seed)\n",
        "    tf.random.set_seed(seed)\n",
        "    os.environ['TF_DETERMINISTIC_OPS'] = '1'  # Force deterministic operations (if supported by your TF version)\n",
        "\n",
        "\n",
        "    df_copy = df.copy(deep=True)\n",
        "    scaler = MinMaxScaler()\n",
        "\n",
        "    # Initialize return values in case of early exits\n",
        "    history = None\n",
        "    mae = None\n",
        "    mse = None\n",
        "\n",
        "    # Ensure df is not empty before scaling\n",
        "    if not df_copy.empty:\n",
        "        df_copy[['latitude', 'longitude']] = scaler.fit_transform(df_copy[['latitude', 'longitude']])\n",
        "    else:\n",
        "        print(\"DataFrame is empty, cannot proceed with scaling and benchmarking.\")\n",
        "        return history, mae, mse  # Return None values\n",
        "\n",
        "    X_train, y_train, X_val, y_val = [], [], [], []\n",
        "    skipped = 0\n",
        "    # Loop through each tornado\n",
        "    for tornado_id, group in df_copy.groupby('cyclone_id'):\n",
        "        group = group.reset_index(drop=True)\n",
        "        if len(group) < seq_length + 2:\n",
        "            skipped += 1\n",
        "            continue\n",
        "\n",
        "        split_idx = int(len(group) * 0.7)\n",
        "        train_group = group[:split_idx]\n",
        "        val_group = group[split_idx:]\n",
        "\n",
        "        x_tr, y_tr = create_sequences(train_group, seq_length)\n",
        "        x_te, y_te = create_sequences(val_group, seq_length)\n",
        "\n",
        "        if len(x_tr) > 0 and len(x_te) > 0:\n",
        "            X_train.append(x_tr)\n",
        "            y_train.append(y_tr)\n",
        "            X_val.append(x_te)\n",
        "            y_val.append(y_te)\n",
        "    print( f\"skipped tornadoe : {skipped}\")\n",
        "\n",
        "    # Concatenate all sequences\n",
        "    if X_train and y_train:\n",
        "        X_train = np.concatenate(X_train).astype(np.float32)\n",
        "        y_train = np.concatenate(y_train).astype(np.float32)\n",
        "\n",
        "    if X_val and y_val:\n",
        "        X_val = np.concatenate(X_val).astype(np.float32)\n",
        "        y_val = np.concatenate(y_val).astype(np.float32)\n",
        "    else:\n",
        "        X_val = np.array([], dtype=np.float32)\n",
        "        y_val = np.array([], dtype=np.float32)\n",
        "\n",
        "    \"\"\"\n",
        "    print(X_train.shape)\n",
        "    print(y_train.shape)\n",
        "    print(X_val.shape)\n",
        "    print(y_val.shape)\"\"\"\n",
        "\n",
        "    X_train_r = X_train\n",
        "    X_val_r = X_val\n",
        "\n",
        "    # Only fit the model if there is training data\n",
        "    if X_train_r.size > 0:\n",
        "        history = model.fit(X_train_r, y_train, validation_data=(X_val_r, y_val),\n",
        "                          epochs=epochs, batch_size=batch_size, verbose=0)\n",
        "\n",
        "        if X_val_r.size > 0:\n",
        "            loss, mae_scaled = model.evaluate(X_val_r, y_val, verbose=0)\n",
        "            print(f'loss = {loss:.4f}, mae = {mae_scaled:.4f}')\n",
        "\n",
        "            y_pred_scaled = model.predict(X_val_r)\n",
        "\n",
        "            # Inverse transform both predictions and true labels\n",
        "            y_pred = scaler.inverse_transform(y_pred_scaled)\n",
        "            y_true = scaler.inverse_transform(y_val)\n",
        "\n",
        "            # Calculate metrics in original units\n",
        "            mae = mean_absolute_error(y_true, y_pred)\n",
        "            mse = mean_squared_error(y_true, y_pred)\n",
        "            #print(f'Real-scale MAE: {mae:.4f}, MSE: {mse:.4f}')\n",
        "        else:\n",
        "            print(\"No validation data available for model evaluation.\")\n",
        "\n",
        "    return history, mae, mse\n",
        "\n",
        "\n",
        "def train_mlp_model(df, model, seq_length = 5 ,epochs=10, batch_size=16 , seed = 42 ):\n",
        "\n",
        "  # Set seeds for reproducibility\n",
        "    os.environ['PYTHONHASHSEED'] = str(seed)\n",
        "    random.seed(seed)\n",
        "    np.random.seed(seed)\n",
        "    tf.random.set_seed(seed)\n",
        "    os.environ['TF_DETERMINISTIC_OPS'] = '1'  # Force deterministic operations (if supported by your TF version)\n",
        "\n",
        "\n",
        "    df_copy = df.copy(deep=True)\n",
        "    scaler = MinMaxScaler()\n",
        "\n",
        "    # Initialize return values in case of early exits\n",
        "    history = None\n",
        "    mae = None\n",
        "    mse = None\n",
        "\n",
        "    # Ensure df is not empty before scaling\n",
        "    if not df_copy.empty:\n",
        "        df_copy[['latitude', 'longitude']] = scaler.fit_transform(df_copy[['latitude', 'longitude']])\n",
        "    else:\n",
        "        print(\"DataFrame is empty, cannot proceed with scaling and benchmarking.\")\n",
        "        return history, mae, mse  # Return None values\n",
        "\n",
        "    X_train, y_train, X_val, y_val = [], [], [], []\n",
        "    skipped = 0\n",
        "    # Loop through each tornado\n",
        "    for tornado_id, group in df_copy.groupby('cyclone_id'):\n",
        "        group = group.reset_index(drop=True)\n",
        "        if len(group) < seq_length + 2:\n",
        "            skipped += 1\n",
        "            continue\n",
        "\n",
        "        split_idx = int(len(group) * 0.7)\n",
        "        train_group = group[:split_idx]\n",
        "        val_group = group[split_idx:]\n",
        "\n",
        "        x_tr, y_tr = create_sequences(train_group, seq_length)\n",
        "        x_te, y_te = create_sequences(val_group, seq_length)\n",
        "\n",
        "        if len(x_tr) > 0 and len(x_te) > 0:\n",
        "            X_train.append(x_tr)\n",
        "            y_train.append(y_tr)\n",
        "            X_val.append(x_te)\n",
        "            y_val.append(y_te)\n",
        "    #print( f\"skipped tornadoe : {skipped}\")\n",
        "\n",
        "    # Concatenate all sequences\n",
        "    if X_train and y_train:\n",
        "        X_train = np.concatenate(X_train).astype(np.float32)\n",
        "        y_train = np.concatenate(y_train).astype(np.float32)\n",
        "\n",
        "    if X_val and y_val:\n",
        "        X_val = np.concatenate(X_val).astype(np.float32)\n",
        "        y_val = np.concatenate(y_val).astype(np.float32)\n",
        "    else:\n",
        "        X_val = np.array([], dtype=np.float32)\n",
        "        y_val = np.array([], dtype=np.float32)\n",
        "\n",
        "    \"\"\"\n",
        "    print(X_train.shape)\n",
        "    print(y_train.shape)\n",
        "    print(X_val.shape)\n",
        "    print(y_val.shape)\"\"\"\n",
        "\n",
        "\n",
        "    # Check if train and validation data exist before reshaping\n",
        "    if X_train.size > 0:\n",
        "        X_train_r = reshape_for_mlp(X_train)\n",
        "    else:\n",
        "        X_train_r = X_train # Keep empty if no train data\n",
        "\n",
        "    if X_val.size > 0:\n",
        "        X_val_r   = reshape_for_mlp(X_val)\n",
        "    else:\n",
        "        X_val_r = X_val # Keep empty if no val data\n",
        "\n",
        "\n",
        "    # Only fit the model if there is training data\n",
        "    if X_train_r.size > 0:\n",
        "        history = model.fit(X_train_r, y_train, validation_data=(X_val_r, y_val),\n",
        "                          epochs=epochs, batch_size=batch_size, verbose=0)\n",
        "\n",
        "        if X_val_r.size > 0:\n",
        "            loss, mae_scaled = model.evaluate(X_val_r, y_val, verbose=0)\n",
        "            print(f'loss = {loss:.4f}, mae = {mae_scaled:.4f}')\n",
        "\n",
        "            y_pred_scaled = model.predict(X_val_r)\n",
        "\n",
        "            # Inverse transform both predictions and true labels\n",
        "            y_pred = scaler.inverse_transform(y_pred_scaled)\n",
        "            y_true = scaler.inverse_transform(y_val)\n",
        "\n",
        "            # Calculate metrics in original units\n",
        "            mae = mean_absolute_error(y_true, y_pred)\n",
        "            mse = mean_squared_error(y_true, y_pred)\n",
        "            #print(f'Real-scale MAE: {mae:.4f}, MSE: {mse:.4f}')\n",
        "        else:\n",
        "            print(\"No validation data available for model evaluation.\")\n",
        "\n",
        "    return history, mae, mse"
      ],
      "metadata": {
        "id": "ALkx82oZvrb6"
      },
      "execution_count": null,
      "outputs": []
    },
    {
      "cell_type": "markdown",
      "source": [
        "models definition"
      ],
      "metadata": {
        "id": "8YQq1wJ9n_jH"
      }
    },
    {
      "cell_type": "code",
      "source": [
        "def build_lstm_model(seq_length):\n",
        "    model = Sequential([\n",
        "        LSTM(64, return_sequences=True, input_shape=(seq_length, 2)),\n",
        "        Dropout(0.2),\n",
        "        LSTM(32),\n",
        "        Dropout(0.2),\n",
        "        Dense(2)\n",
        "    ])\n",
        "    model.compile(optimizer='adam', loss='mse', metrics=['mae'])\n",
        "    return model\n",
        "\n",
        "def build_gru_model(seq_length):\n",
        "    model = Sequential([\n",
        "        GRU(64, return_sequences=True, input_shape=(seq_length, 2)),\n",
        "        Dropout(0.2),\n",
        "        GRU(32),\n",
        "        Dropout(0.2),\n",
        "        Dense(2)\n",
        "    ])\n",
        "    model.compile(optimizer='adam', loss='mse', metrics=['mae'])\n",
        "    return model\n",
        "\n",
        "def build_cnn_lstm_model(seq_length):\n",
        "    model = Sequential([\n",
        "        Conv1D(32, kernel_size=3, activation='relu', input_shape=(seq_length, 2)),\n",
        "        Dropout(0.2),\n",
        "        LSTM(32),\n",
        "        Dense(2)\n",
        "    ])\n",
        "    model.compile(optimizer='adam', loss='mse', metrics=['mae'])\n",
        "    return model\n",
        "\n",
        "def build_mlp_model(seq_length):\n",
        "    model = Sequential([\n",
        "        Input(shape=(seq_length * 2,)),  # Flattened input\n",
        "        Dense(64, activation='relu'),\n",
        "        Dropout(0.2),\n",
        "        Dense(32, activation='relu'),\n",
        "        Dropout(0.2),\n",
        "        Dense(2)\n",
        "    ])\n",
        "    model.compile(optimizer='adam', loss='mse', metrics=['mae'])\n",
        "    return model\n",
        "\n",
        "# Modèle Bidirectionnel LSTM\n",
        "def create_bilstm_model(window_size):\n",
        "    model = tf.keras.models.Sequential([\n",
        "        # Add an Input layer or specify input_shape in the first layer\n",
        "        Input(shape=(window_size, 2)), # Assuming input is (seq_length, 2)\n",
        "        Bidirectional(LSTM(64, activation='relu')),\n",
        "        Dense(2)\n",
        "    ])\n",
        "    # Compile with both loss and mae\n",
        "    model.compile(optimizer='adam', loss='mse', metrics=['mae'])\n",
        "    return model\n",
        "\n",
        "# Modèle CNN 1D\n",
        "def create_conv_model(window_size):\n",
        "    model = tf.keras.models.Sequential([\n",
        "        # Add an Input layer or specify input_shape in the first layer\n",
        "        Input(shape=(window_size, 2)), # Assuming input is (seq_length, 2)\n",
        "        Conv1D(filters=64, kernel_size=3, activation='relu'),\n",
        "        MaxPooling1D(pool_size=2),\n",
        "        Flatten(),\n",
        "        Dense(64, activation='relu'),\n",
        "        Dense(2)\n",
        "    ])\n",
        "    # Compile with both loss and mae\n",
        "    model.compile(optimizer='adam', loss='mse', metrics=['mae'])\n",
        "    return model\n",
        "\n",
        "# === DATA PREP ===\n",
        "def create_sequences(data, seq_length):\n",
        "    xs = []\n",
        "    ys = []\n",
        "    # Ensure data has enough points for at least one sequence + target\n",
        "    if len(data) < seq_length + 1:\n",
        "        return [], []\n",
        "    for i in range(len(data) - seq_length - 1):\n",
        "        # Input sequence with both lat and long\n",
        "        x = data[i:i + seq_length][['latitude', 'longitude']].values\n",
        "        # Output is both lat and long for the next position\n",
        "        y = data.iloc[i + seq_length][['latitude', 'longitude']].values\n",
        "        xs.append(x)\n",
        "        ys.append(y)\n",
        "    # Return numpy arrays if sequences were created, otherwise return empty lists\n",
        "    if xs and ys:\n",
        "        return np.array(xs), np.array(ys)\n",
        "    else:\n",
        "        return [], []\n"
      ],
      "metadata": {
        "id": "bpTjsXUm58eA"
      },
      "execution_count": null,
      "outputs": []
    },
    {
      "cell_type": "markdown",
      "source": [
        "training loop"
      ],
      "metadata": {
        "id": "4lkSch05F83D"
      }
    },
    {
      "cell_type": "code",
      "source": [
        "import matplotlib.pyplot as plt\n",
        "\n",
        "seq_length = 5\n",
        "results = {}\n",
        "\n",
        "models = {\n",
        "    'LSTM': build_lstm_model(seq_length),\n",
        "    'GRU': build_gru_model(seq_length),\n",
        "    'CNN+LSTM': build_cnn_lstm_model(seq_length),\n",
        "    'MLP': build_mlp_model(seq_length),\n",
        "    'Conv1D': create_conv_model(seq_length),\n",
        "    'bilstm': create_bilstm_model(seq_length),\n",
        "}\n",
        "\n",
        "for name, model in models.items():\n",
        "    print(f\"\\n🚀 Training model: {name}\")\n",
        "\n",
        "    if name == 'MLP':\n",
        "        _, mae, mse = train_mlp_model(df, model, seq_length=seq_length, epochs=10, batch_size=16, seed=42)\n",
        "    else:\n",
        "        _, mae, mse = train_model(df, model, seq_length=seq_length, epochs=10, batch_size=16, seed=42)\n",
        "\n",
        "    results[name] = {'mae': mae, 'mse': mse}\n",
        "    print(f'Model: {name} | MAE = {mae:.4f} | MSE = {mse:.4f}')"
      ],
      "metadata": {
        "colab": {
          "base_uri": "https://localhost:8080/"
        },
        "id": "-C4OW3mXFFOH",
        "outputId": "ee9563b0-9606-4d28-864c-45912402e938"
      },
      "execution_count": null,
      "outputs": [
        {
          "output_type": "stream",
          "name": "stderr",
          "text": [
            "/usr/local/lib/python3.11/dist-packages/keras/src/layers/rnn/rnn.py:200: UserWarning: Do not pass an `input_shape`/`input_dim` argument to a layer. When using Sequential models, prefer using an `Input(shape)` object as the first layer in the model instead.\n",
            "  super().__init__(**kwargs)\n",
            "/usr/local/lib/python3.11/dist-packages/keras/src/layers/convolutional/base_conv.py:107: UserWarning: Do not pass an `input_shape`/`input_dim` argument to a layer. When using Sequential models, prefer using an `Input(shape)` object as the first layer in the model instead.\n",
            "  super().__init__(activity_regularizer=activity_regularizer, **kwargs)\n"
          ]
        },
        {
          "output_type": "stream",
          "name": "stdout",
          "text": [
            "\n",
            "🚀 Training model: LSTM\n",
            "loss = 0.0002, mae = 0.0102\n",
            "\u001b[1m285/285\u001b[0m \u001b[32m━━━━━━━━━━━━━━━━━━━━\u001b[0m\u001b[37m\u001b[0m \u001b[1m1s\u001b[0m 4ms/step\n",
            "Model: LSTM | MAE = 12.2169 | MSE = 252.6921\n",
            "\n",
            "🚀 Training model: GRU\n",
            "loss = 0.0001, mae = 0.0087\n",
            "\u001b[1m285/285\u001b[0m \u001b[32m━━━━━━━━━━━━━━━━━━━━\u001b[0m\u001b[37m\u001b[0m \u001b[1m2s\u001b[0m 4ms/step\n",
            "Model: GRU | MAE = 10.6119 | MSE = 222.5592\n",
            "\n",
            "🚀 Training model: CNN+LSTM\n",
            "loss = 0.0005, mae = 0.0146\n",
            "\u001b[1m285/285\u001b[0m \u001b[32m━━━━━━━━━━━━━━━━━━━━\u001b[0m\u001b[37m\u001b[0m \u001b[1m1s\u001b[0m 3ms/step\n",
            "Model: CNN+LSTM | MAE = 15.7604 | MSE = 519.5294\n",
            "\n",
            "🚀 Training model: MLP\n",
            "loss = 0.0006, mae = 0.0195\n",
            "\u001b[1m285/285\u001b[0m \u001b[32m━━━━━━━━━━━━━━━━━━━━\u001b[0m\u001b[37m\u001b[0m \u001b[1m1s\u001b[0m 2ms/step\n",
            "Model: MLP | MAE = 21.7793 | MSE = 737.8944\n",
            "\n",
            "🚀 Training model: Conv1D\n",
            "loss = 0.0002, mae = 0.0099\n",
            "\u001b[1m285/285\u001b[0m \u001b[32m━━━━━━━━━━━━━━━━━━━━\u001b[0m\u001b[37m\u001b[0m \u001b[1m1s\u001b[0m 2ms/step\n",
            "Model: Conv1D | MAE = 10.8739 | MSE = 219.1272\n",
            "\n",
            "🚀 Training model: bilstm\n",
            "loss = 0.0001, mae = 0.0050\n",
            "\u001b[1m285/285\u001b[0m \u001b[32m━━━━━━━━━━━━━━━━━━━━\u001b[0m\u001b[37m\u001b[0m \u001b[1m2s\u001b[0m 4ms/step\n",
            "Model: bilstm | MAE = 5.4763 | MSE = 67.4690\n"
          ]
        }
      ]
    },
    {
      "cell_type": "code",
      "source": [
        "# Plotting results\n",
        "model_names = list(results.keys())\n",
        "maes = [results[m]['mae'] for m in model_names]\n",
        "mses = [results[m]['mse'] for m in model_names]\n",
        "\n",
        "x = range(len(model_names))\n",
        "width = 0.35\n",
        "\n",
        "plt.figure(figsize=(10, 6))\n",
        "plt.bar(x, maes, width=width, label='MAE', align='center')\n",
        "plt.bar([p + width for p in x], mses, width=width, label='MSE', align='center')\n",
        "\n",
        "plt.xlabel('Models')\n",
        "plt.ylabel('Error')\n",
        "plt.title('MAE and MSE Comparison Across Models')\n",
        "plt.xticks([p + width / 2 for p in x], model_names, rotation=45)\n",
        "plt.legend()\n",
        "plt.tight_layout()\n",
        "plt.grid(True)\n",
        "plt.show()"
      ],
      "metadata": {
        "colab": {
          "base_uri": "https://localhost:8080/",
          "height": 607
        },
        "id": "2gad0z0JM21D",
        "outputId": "7d5d5f7e-91d7-4101-a40e-6cdc50fdd056"
      },
      "execution_count": null,
      "outputs": [
        {
          "output_type": "display_data",
          "data": {
            "text/plain": [
              "<Figure size 1000x600 with 1 Axes>"
            ],
            "image/png": "[encoded data removed]"
          },
          "metadata": {}
        }
      ]
    },
    {
      "cell_type": "markdown",
      "source": [
        "winer model : **bilstm**"
      ],
      "metadata": {
        "id": "Tf9v2OzUUn8h"
      }
    },
    {
      "cell_type": "markdown",
      "source": [
        "**Essayer une architecture plus profonde**"
      ],
      "metadata": {
        "id": "m6P0t4GyRLF3"
      }
    },
    {
      "cell_type": "code",
      "source": [
        "def create_bilstm_model_2(window_size):\n",
        "    \"\"\"\n",
        "    Creates a Bidirectional LSTM model with a deeper architecture.\n",
        "\n",
        "    Args:\n",
        "        window_size (int): The size of the input window (sequence length).\n",
        "\n",
        "    Returns:\n",
        "        tf.keras.models.Sequential: The compiled Keras model.\n",
        "    \"\"\"\n",
        "    model = tf.keras.models.Sequential([\n",
        "        Input(shape=(window_size, 2)),\n",
        "        Bidirectional(LSTM(128, activation='relu', return_sequences=True)),\n",
        "        Dropout(0.2),\n",
        "        Bidirectional(LSTM(64, activation='relu', return_sequences=True)),\n",
        "        Dropout(0.2),\n",
        "        Bidirectional(LSTM(32, activation='relu')),\n",
        "        Dropout(0.2),\n",
        "        Dense(32, activation='relu'),\n",
        "        Dense(2)\n",
        "    ])\n",
        "    model.compile(optimizer='adam', loss='mse', metrics=['mae'])\n",
        "    return model\n",
        "\n",
        "seq_length = 5\n",
        "\n",
        "model2 = create_bilstm_model_2(seq_length)\n",
        "_ , mae , mse = train_model( df , model2 , 10, 16)\n",
        "print(f' Real-scale MAE: {mae:.4f}, MSE: {mse:.4f}')"
      ],
      "metadata": {
        "colab": {
          "base_uri": "https://localhost:8080/"
        },
        "id": "pzzsQkNuRKtp",
        "outputId": "986f2341-9639-4621-ef6a-994d9351fb4f"
      },
      "execution_count": null,
      "outputs": [
        {
          "output_type": "stream",
          "name": "stdout",
          "text": [
            "loss = 0.0011, mae = 0.0244\n",
            "\u001b[1m84/84\u001b[0m \u001b[32m━━━━━━━━━━━━━━━━━━━━\u001b[0m\u001b[37m\u001b[0m \u001b[1m4s\u001b[0m 34ms/step\n",
            " Real-scale MAE: 26.0142, MSE: 1118.1473\n"
          ]
        }
      ]
    },
    {
      "cell_type": "markdown",
      "source": [
        "The model’s accuracy deteriorated significantly."
      ],
      "metadata": {
        "id": "QIgcrhZ2Sq0n"
      }
    },
    {
      "cell_type": "markdown",
      "source": [
        "eliminer  les couches de drop-out"
      ],
      "metadata": {
        "id": "VQI-Lc40Sv8G"
      }
    },
    {
      "cell_type": "code",
      "source": [
        "def create_bilstm_model_2(window_size):\n",
        "    model = tf.keras.models.Sequential([\n",
        "        Input(shape=(window_size, 2)),\n",
        "        Bidirectional(LSTM(128, activation='relu', return_sequences=True)),\n",
        "        Bidirectional(LSTM(64, activation='relu', return_sequences=True)),\n",
        "        Bidirectional(LSTM(32, activation='relu')),\n",
        "        Dense(32, activation='relu'),\n",
        "        Dense(2)\n",
        "    ])\n",
        "    model.compile(optimizer='adam', loss='mse', metrics=['mae'])\n",
        "    return model\n",
        "\n",
        "seq_length = 5\n",
        "\n",
        "model = create_bilstm_model_2(seq_length)\n",
        "_ , mae , mse = train_model(df , model , 10, 16)\n",
        "print(f' model : {name}  ,  Real-scale MAE: {mae:.4f}, MSE: {mse:.4f}')"
      ],
      "metadata": {
        "colab": {
          "base_uri": "https://localhost:8080/"
        },
        "id": "8tDyRVXrSvRl",
        "outputId": "69d019e1-0ddc-4857-dce2-be6dce2bda0b"
      },
      "execution_count": null,
      "outputs": [
        {
          "output_type": "stream",
          "name": "stdout",
          "text": [
            "loss = 0.0001, mae = 0.0078\n",
            "\u001b[1m84/84\u001b[0m \u001b[32m━━━━━━━━━━━━━━━━━━━━\u001b[0m\u001b[37m\u001b[0m \u001b[1m6s\u001b[0m 55ms/step\n",
            " model : bilstm  ,  Real-scale MAE: 8.3381, MSE: 136.6769\n"
          ]
        }
      ]
    },
    {
      "cell_type": "markdown",
      "source": [
        "deeper architecture give bad results to **-21%** and a run time of 13 min compared to 5 min in light model"
      ],
      "metadata": {
        "id": "c-ro8sFxVJS3"
      }
    },
    {
      "cell_type": "markdown",
      "source": [
        "**try combined loss function**"
      ],
      "metadata": {
        "id": "KqMbkfD3jbfi"
      }
    },
    {
      "cell_type": "code",
      "source": [
        "def euclidean_distance_loss(y_true, y_pred):\n",
        "    return tf.reduce_mean(tf.sqrt(\n",
        "        tf.square(y_true[:, 0] - y_pred[:, 0]) +\n",
        "        tf.square(y_true[:, 1] - y_pred[:, 1])\n",
        "    ))\n",
        "\n",
        "def build_model(seq_length):\n",
        "    model = tf.keras.models.Sequential([\n",
        "        Input(shape=(seq_length, 2)),\n",
        "        Bidirectional(LSTM(64, activation='relu')),\n",
        "        Dense(2)\n",
        "    ])\n",
        "\n",
        "    model.compile(\n",
        "    optimizer='adam',\n",
        "    loss=euclidean_distance_loss,\n",
        "    metrics=['mae']\n",
        "    )\n",
        "    return model"
      ],
      "metadata": {
        "id": "Jl_OojwVnl47"
      },
      "execution_count": null,
      "outputs": []
    },
    {
      "cell_type": "code",
      "source": [
        "seq_length = 5\n",
        "\n",
        "combined_model = build_model(seq_length)\n",
        "_ , mae , mse = train_model(df , combined_model )\n",
        "print(f' model : {name}  ,  Real-scale MAE: {mae:.4f}, MSE: {mse:.4f}')"
      ],
      "metadata": {
        "id": "mCIuqDfar6o8",
        "colab": {
          "base_uri": "https://localhost:8080/"
        },
        "outputId": "0c9c86fe-0e6b-4387-8043-7e06c33d6efd"
      },
      "execution_count": null,
      "outputs": [
        {
          "output_type": "stream",
          "name": "stdout",
          "text": [
            "loss = 0.0081, mae = 0.0051\n",
            "\u001b[1m285/285\u001b[0m \u001b[32m━━━━━━━━━━━━━━━━━━━━\u001b[0m\u001b[37m\u001b[0m \u001b[1m2s\u001b[0m 4ms/step\n",
            " model : bilstm  ,  Real-scale MAE: 5.7217, MSE: 65.3996\n"
          ]
        }
      ]
    },
    {
      "cell_type": "markdown",
      "source": [
        "**Conclusion :** using a combined loss function hase improved the model by **3,4%**\n"
      ],
      "metadata": {
        "id": "T_rigoZUrJWr"
      }
    },
    {
      "cell_type": "markdown",
      "source": [
        "**trying different batch size**"
      ],
      "metadata": {
        "id": "FGGkz-pxbJQD"
      }
    },
    {
      "cell_type": "code",
      "source": [
        "batch_sizes = {8 ,16 , 32 , 64}\n",
        "for batch_size in batch_sizes:\n",
        "    model = create_bilstm_model(seq_length)\n",
        "    _ , mae , mse = train_model(df , model , 5, 10 , batch_size)\n",
        "\n",
        "    print(f' batch size : {batch_size:.4f}  ,  Real-scale MAE: {mae:.4f}, MSE: {mse:.4f}')"
      ],
      "metadata": {
        "colab": {
          "base_uri": "https://localhost:8080/"
        },
        "id": "EesvA-wvmjwv",
        "outputId": "6c9f101c-7faa-4ecf-fb8c-3d7264413554"
      },
      "execution_count": null,
      "outputs": [
        {
          "output_type": "stream",
          "name": "stdout",
          "text": [
            "skipped tornadoe : 37\n",
            "loss = 0.0000, mae = 0.0040\n",
            "\u001b[1m285/285\u001b[0m \u001b[32m━━━━━━━━━━━━━━━━━━━━\u001b[0m\u001b[37m\u001b[0m \u001b[1m3s\u001b[0m 7ms/step\n",
            " batch size : 8.0000  ,  Real-scale MAE: 4.2693, MSE: 41.3673\n",
            "skipped tornadoe : 37\n",
            "loss = 0.0001, mae = 0.0060\n",
            "\u001b[1m285/285\u001b[0m \u001b[32m━━━━━━━━━━━━━━━━━━━━\u001b[0m\u001b[37m\u001b[0m \u001b[1m2s\u001b[0m 4ms/step\n",
            " batch size : 16.0000  ,  Real-scale MAE: 7.0561, MSE: 98.0092\n",
            "skipped tornadoe : 37\n",
            "loss = 0.0002, mae = 0.0094\n",
            "\u001b[1m285/285\u001b[0m \u001b[32m━━━━━━━━━━━━━━━━━━━━\u001b[0m\u001b[37m\u001b[0m \u001b[1m2s\u001b[0m 4ms/step\n",
            " batch size : 32.0000  ,  Real-scale MAE: 9.6318, MSE: 166.4976\n",
            "skipped tornadoe : 37\n",
            "loss = 0.0002, mae = 0.0097\n",
            "\u001b[1m285/285\u001b[0m \u001b[32m━━━━━━━━━━━━━━━━━━━━\u001b[0m\u001b[37m\u001b[0m \u001b[1m2s\u001b[0m 5ms/step\n",
            " batch size : 64.0000  ,  Real-scale MAE: 10.2850, MSE: 205.4332\n"
          ]
        }
      ]
    },
    {
      "cell_type": "code",
      "source": [
        "batch_sizes = {8 ,16 , 32 , 64}\n",
        "for batch_size in batch_sizes:\n",
        "    model = build_model(seq_length)\n",
        "    _ , mae , mse = train_model(df , model , 5, 10 , batch_size)\n",
        "    print(f' batch size : {batch_size:.4f}  ,  Real-scale MAE: {mae:.4f}, MSE: {mse:.4f}')"
      ],
      "metadata": {
        "colab": {
          "base_uri": "https://localhost:8080/"
        },
        "id": "-DdB9IQmWDwD",
        "outputId": "7b3aed3f-4348-4016-ab21-7d9b7324e2d8"
      },
      "execution_count": null,
      "outputs": [
        {
          "output_type": "stream",
          "name": "stdout",
          "text": [
            "skipped tornadoe : 37\n",
            "loss = 0.0064, mae = 0.0041\n",
            "\u001b[1m285/285\u001b[0m \u001b[32m━━━━━━━━━━━━━━━━━━━━\u001b[0m\u001b[37m\u001b[0m \u001b[1m2s\u001b[0m 5ms/step\n",
            " batch size : 8.0000  ,  Real-scale MAE: 4.4519, MSE: 48.0461\n",
            "skipped tornadoe : 37\n",
            "loss = 0.0081, mae = 0.0051\n",
            "\u001b[1m285/285\u001b[0m \u001b[32m━━━━━━━━━━━━━━━━━━━━\u001b[0m\u001b[37m\u001b[0m \u001b[1m2s\u001b[0m 4ms/step\n",
            " batch size : 16.0000  ,  Real-scale MAE: 5.7217, MSE: 65.3996\n",
            "skipped tornadoe : 37\n",
            "loss = 0.0123, mae = 0.0077\n",
            "\u001b[1m285/285\u001b[0m \u001b[32m━━━━━━━━━━━━━━━━━━━━\u001b[0m\u001b[37m\u001b[0m \u001b[1m2s\u001b[0m 6ms/step\n",
            " batch size : 32.0000  ,  Real-scale MAE: 8.1376, MSE: 133.6091\n",
            "skipped tornadoe : 37\n",
            "loss = 0.0151, mae = 0.0094\n",
            "\u001b[1m285/285\u001b[0m \u001b[32m━━━━━━━━━━━━━━━━━━━━\u001b[0m\u001b[37m\u001b[0m \u001b[1m2s\u001b[0m 4ms/step\n",
            " batch size : 64.0000  ,  Real-scale MAE: 9.3051, MSE: 165.3393\n"
          ]
        }
      ]
    },
    {
      "cell_type": "markdown",
      "source": [
        "**trying different sequence lenght**"
      ],
      "metadata": {
        "id": "wOLQyEPE_4PK"
      }
    },
    {
      "cell_type": "code",
      "source": [
        "# def train_model(df, model, seq_length = 5 ,epochs=10, batch_size=16 , seed = 42 , ):\n",
        "seq_lengths = [ 3 ,5 , 10 , 15 ]\n",
        "for seq in seq_lengths:\n",
        "    model = build_model(seq)\n",
        "    _ , mae , mse = train_model(df , model , seq , 10 , 8)\n",
        "    print(f' seq length : {seq:.4f}  ,  Real-scale MAE: {mae:.4f}, MSE: {mse:.4f}')"
      ],
      "metadata": {
        "colab": {
          "base_uri": "https://localhost:8080/"
        },
        "id": "y_6T6TdK__AA",
        "outputId": "000f9739-2b59-4957-fc40-9da21f463b06"
      },
      "execution_count": null,
      "outputs": [
        {
          "output_type": "stream",
          "name": "stdout",
          "text": [
            "skipped tornadoe : 21\n",
            "loss = 0.0072, mae = 0.0045\n",
            "\u001b[1m411/411\u001b[0m \u001b[32m━━━━━━━━━━━━━━━━━━━━\u001b[0m\u001b[37m\u001b[0m \u001b[1m3s\u001b[0m 5ms/step\n",
            " seq length : 3.0000  ,  Real-scale MAE: 4.6568, MSE: 44.0760\n",
            "skipped tornadoe : 37\n",
            "loss = 0.0064, mae = 0.0041\n",
            "\u001b[1m285/285\u001b[0m \u001b[32m━━━━━━━━━━━━━━━━━━━━\u001b[0m\u001b[37m\u001b[0m \u001b[1m2s\u001b[0m 5ms/step\n",
            " seq length : 5.0000  ,  Real-scale MAE: 4.4519, MSE: 48.0461\n",
            "skipped tornadoe : 247\n",
            "loss = 0.0070, mae = 0.0044\n",
            "\u001b[1m84/84\u001b[0m \u001b[32m━━━━━━━━━━━━━━━━━━━━\u001b[0m\u001b[37m\u001b[0m \u001b[1m1s\u001b[0m 9ms/step\n",
            " seq length : 10.0000  ,  Real-scale MAE: 4.4681, MSE: 42.6796\n",
            "skipped tornadoe : 578\n",
            "loss = 0.0129, mae = 0.0082\n",
            "\u001b[1m16/16\u001b[0m \u001b[32m━━━━━━━━━━━━━━━━━━━━\u001b[0m\u001b[37m\u001b[0m \u001b[1m1s\u001b[0m 46ms/step\n",
            " seq length : 15.0000  ,  Real-scale MAE: 8.9574, MSE: 149.3246\n"
          ]
        }
      ]
    },
    {
      "cell_type": "code",
      "source": [
        "# def train_model(df, model, seq_length = 5 ,epochs=10, batch_size=16 , seed = 42 , )\n",
        "seq_lengths = [  3 ,5 , 10 , 15 ]\n",
        "for seq in seq_lengths:\n",
        "    model = create_bilstm_model(seq)\n",
        "    _ , mae , mse = train_model(df , model , seq , 10 , 8)\n",
        "    print(f' seq length : {seq:.4f}  ,  Real-scale MAE: {mae:.4f}, MSE: {mse:.4f}')"
      ],
      "metadata": {
        "colab": {
          "base_uri": "https://localhost:8080/"
        },
        "id": "Ca6ZSmdHxgDG",
        "outputId": "824620b5-2113-420f-bfc5-7323047bf589"
      },
      "execution_count": null,
      "outputs": [
        {
          "output_type": "stream",
          "name": "stdout",
          "text": [
            "skipped tornadoe : 21\n",
            "loss = 0.0000, mae = 0.0048\n",
            "\u001b[1m411/411\u001b[0m \u001b[32m━━━━━━━━━━━━━━━━━━━━\u001b[0m\u001b[37m\u001b[0m \u001b[1m3s\u001b[0m 5ms/step\n",
            " seq length : 3.0000  ,  Real-scale MAE: 5.4504, MSE: 54.6241\n",
            "skipped tornadoe : 37\n",
            "loss = 0.0000, mae = 0.0040\n",
            "\u001b[1m285/285\u001b[0m \u001b[32m━━━━━━━━━━━━━━━━━━━━\u001b[0m\u001b[37m\u001b[0m \u001b[1m2s\u001b[0m 4ms/step\n",
            " seq length : 5.0000  ,  Real-scale MAE: 4.2693, MSE: 41.3673\n",
            "skipped tornadoe : 247\n",
            "loss = 0.0000, mae = 0.0049\n",
            "\u001b[1m84/84\u001b[0m \u001b[32m━━━━━━━━━━━━━━━━━━━━\u001b[0m\u001b[37m\u001b[0m \u001b[1m1s\u001b[0m 9ms/step\n",
            " seq length : 10.0000  ,  Real-scale MAE: 5.1745, MSE: 53.6601\n",
            "skipped tornadoe : 578\n",
            "loss = 0.0002, mae = 0.0112\n",
            "\u001b[1m16/16\u001b[0m \u001b[32m━━━━━━━━━━━━━━━━━━━━\u001b[0m\u001b[37m\u001b[0m \u001b[1m1s\u001b[0m 35ms/step\n",
            " seq length : 15.0000  ,  Real-scale MAE: 12.1557, MSE: 266.5956\n"
          ]
        }
      ]
    },
    {
      "cell_type": "markdown",
      "source": [
        "**trying normalizing by tornado**"
      ],
      "metadata": {
        "id": "HMh4h9GR50_x"
      }
    },
    {
      "cell_type": "code",
      "source": [
        "from sklearn.preprocessing import MinMaxScaler\n",
        "import numpy as np\n",
        "\n",
        "X_train, y_train, X_test, y_test = [], [], [], []\n",
        "test_ids = []    # <-- on ajoutera l'ID de chaque échantillon test ici\n",
        "scalers = {}\n",
        "\n",
        "for tornado_id, group in df.groupby('cyclone_id'):\n",
        "    group = group.reset_index(drop=True)\n",
        "\n",
        "    # Standardisation par cyclone\n",
        "    scaler = MinMaxScaler()\n",
        "    group[['latitude', 'longitude']] = scaler.fit_transform(group[['latitude', 'longitude']])\n",
        "    scalers[tornado_id] = scaler\n",
        "\n",
        "    split_idx = int(len(group) * 0.7)\n",
        "    train_group = group[:split_idx]\n",
        "    test_group  = group[split_idx:]\n",
        "\n",
        "    x_tr, y_tr = create_sequences(train_group, seq_length)\n",
        "    x_te, y_te = create_sequences(test_group, seq_length)\n",
        "\n",
        "    if len(x_tr) > 0 and len(x_te) > 0:\n",
        "        X_train.append(x_tr)\n",
        "        y_train.append(y_tr)\n",
        "\n",
        "        X_test.append(x_te)\n",
        "        y_test.append(y_te)\n",
        "\n",
        "        # Pour chaque séquence test (de taille seq_length), on stocke son ID\n",
        "        # On crée un tableau de la même longueur que y_te, rempli avec tornado_id\n",
        "        test_ids.append(np.full(shape=(y_te.shape[0],), fill_value=tornado_id, dtype=object))\n",
        "\n",
        "# Concaténation finale\n",
        "X_train = np.concatenate(X_train).astype(np.float32)\n",
        "y_train = np.concatenate(y_train).astype(np.float32)\n",
        "\n",
        "X_test  = np.concatenate(X_test).astype(np.float32)\n",
        "y_test  = np.concatenate(y_test).astype(np.float32)\n",
        "test_ids = np.concatenate(test_ids)  # vecteur d’ID, longueur = nombre total d’échantillons test\n",
        "\n",
        "model = create_bilstm_model(5)\n",
        "history = model.fit(\n",
        "    X_train, y_train,\n",
        "    epochs=20,\n",
        "    batch_size=8,\n",
        "    validation_split=0.3,\n",
        "    verbose=0\n",
        ")\n",
        "y_pred_scaled = model.predict(X_test)\n",
        "# Initialisation des tableaux pour stocker les vraies valeurs et prédictions en échelle réelle\n",
        "y_true_real = np.zeros_like(y_test)       # même shape que y_test\n",
        "y_pred_real = np.zeros_like(y_pred_scaled)\n",
        "\n",
        "for i in range(len(y_test)):\n",
        "    tornado_id = test_ids[i]\n",
        "    scaler     = scalers[tornado_id]\n",
        "\n",
        "    # y_test[i] est e.g. array([lat_scaled, lon_scaled])\n",
        "    # on fait reshape(1,2) pour satisfaire l’API de inverse_transform\n",
        "    real_true = scaler.inverse_transform(y_test[i].reshape(1, -1))\n",
        "    real_pred = scaler.inverse_transform(y_pred_scaled[i].reshape(1, -1))\n",
        "\n",
        "    y_true_real[i] = real_true\n",
        "    y_pred_real[i] = real_pred\n",
        "from sklearn.metrics import mean_absolute_error, mean_squared_error\n",
        "\n",
        "# Supposons que y_true_real et y_pred_real ont shape (N_test, 2) pour (lat, lon)\n",
        "mae_lat = mean_absolute_error(y_true_real[:, 0], y_pred_real[:, 0])\n",
        "mae_lon = mean_absolute_error(y_true_real[:, 1], y_pred_real[:, 1])\n",
        "\n",
        "mse_lat = mean_squared_error(y_true_real[:, 0], y_pred_real[:, 0])\n",
        "mse_lon = mean_squared_error(y_true_real[:, 1], y_pred_real[:, 1])\n",
        "\n",
        "print(f\"MAE Latitude réel   : {mae_lat:.4f}\")\n",
        "print(f\"MAE Longitude réel  : {mae_lon:.4f}\")\n",
        "print(f\"MSE Latitude réel   : {mse_lat:.4f}\")\n",
        "print(f\"MSE Longitude réel  : {mse_lon:.4f}\")\n",
        "\n",
        "# Si vous voulez un RMSE global (pour les deux dimensions), par exemple :\n",
        "rmse_global = np.sqrt(\n",
        "    mean_squared_error(\n",
        "        y_true_real.reshape(-1, 2),\n",
        "        y_pred_real.reshape(-1, 2)\n",
        "    )\n",
        ")\n",
        "print(f\"RMSE global (2D)    : {rmse_global:.4f}\")\n"
      ],
      "metadata": {
        "colab": {
          "base_uri": "https://localhost:8080/"
        },
        "id": "mw2LQ2qH50He",
        "outputId": "05d7c233-1a12-4448-eaf7-e4c77b1d6672"
      },
      "execution_count": null,
      "outputs": [
        {
          "output_type": "stream",
          "name": "stdout",
          "text": [
            "\u001b[1m285/285\u001b[0m \u001b[32m━━━━━━━━━━━━━━━━━━━━\u001b[0m\u001b[37m\u001b[0m \u001b[1m2s\u001b[0m 4ms/step\n",
            "MAE Latitude réel   : 3.1831\n",
            "MAE Longitude réel  : 4.9933\n",
            "MSE Latitude réel   : 20.0786\n",
            "MSE Longitude réel  : 53.4726\n",
            "RMSE global (2D)    : 6.0643\n"
          ]
        }
      ]
    },
    {
      "cell_type": "code",
      "source": [
        "from sklearn.preprocessing import MinMaxScaler\n",
        "import numpy as np\n",
        "\n",
        "X_train, y_train, X_test, y_test = [], [], [], []\n",
        "test_ids = []    # <-- on ajoutera l'ID de chaque échantillon test ici\n",
        "scalers = {}\n",
        "seq_length = 5\n",
        "for tornado_id, group in df.groupby('cyclone_id'):\n",
        "    group = group.reset_index(drop=True)\n",
        "\n",
        "    # Standardisation par cyclone\n",
        "    scaler = MinMaxScaler()\n",
        "    group[['latitude', 'longitude']] = scaler.fit_transform(group[['latitude', 'longitude']])\n",
        "    scalers[tornado_id] = scaler\n",
        "\n",
        "    split_idx = int(len(group) * 0.7)\n",
        "    train_group = group[:split_idx]\n",
        "    test_group  = group[split_idx:]\n",
        "\n",
        "    x_tr, y_tr = create_sequences(train_group, seq_length)\n",
        "    x_te, y_te = create_sequences(test_group, seq_length)\n",
        "\n",
        "    if len(x_tr) > 0 and len(x_te) > 0:\n",
        "        X_train.append(x_tr)\n",
        "        y_train.append(y_tr)\n",
        "\n",
        "        X_test.append(x_te)\n",
        "        y_test.append(y_te)\n",
        "\n",
        "        # Pour chaque séquence test (de taille seq_length), on stocke son ID\n",
        "        test_ids.append(np.full(shape=(y_te.shape[0],), fill_value=tornado_id, dtype=object))\n",
        "\n",
        "# Concaténation finale\n",
        "X_train = np.concatenate(X_train).astype(np.float32)\n",
        "y_train = np.concatenate(y_train).astype(np.float32)\n",
        "\n",
        "X_test  = np.concatenate(X_test).astype(np.float32)\n",
        "y_test  = np.concatenate(y_test).astype(np.float32)\n",
        "test_ids = np.concatenate(test_ids)  # vecteur d’ID, longueur = nombre total d’échantillons test\n",
        "\n",
        "model = create_bilstm_model(5)\n",
        "history = model.fit(\n",
        "    X_train, y_train,\n",
        "    epochs=100,\n",
        "    batch_size=8,\n",
        "    validation_split=0.3,\n",
        "    verbose=1\n",
        ")\n",
        "y_pred_scaled = model.predict(X_test)\n",
        "# Initialisation des tableaux pour stocker les vraies valeurs et prédictions en échelle réelle\n",
        "y_true_real = np.zeros_like(y_test)       # même shape que y_test\n",
        "y_pred_real = np.zeros_like(y_pred_scaled)\n",
        "\n",
        "for i in range(len(y_test)):\n",
        "    tornado_id = test_ids[i]\n",
        "    scaler     = scalers[tornado_id]\n",
        "\n",
        "    # y_test[i] est e.g. array([lat_scaled, lon_scaled])\n",
        "    # on fait reshape(1,2) pour satisfaire l’API de inverse_transform\n",
        "    real_true = scaler.inverse_transform(y_test[i].reshape(1, -1))\n",
        "    real_pred = scaler.inverse_transform(y_pred_scaled[i].reshape(1, -1))\n",
        "\n",
        "    y_true_real[i] = real_true\n",
        "    y_pred_real[i] = real_pred\n",
        "from sklearn.metrics import mean_absolute_error, mean_squared_error\n",
        "\n",
        "# Supposons que y_true_real et y_pred_real ont shape (N_test, 2) pour (lat, lon)\n",
        "mae_lat = mean_absolute_error(y_true_real[:, 0], y_pred_real[:, 0])\n",
        "mae_lon = mean_absolute_error(y_true_real[:, 1], y_pred_real[:, 1])\n",
        "\n",
        "mse_lat = mean_squared_error(y_true_real[:, 0], y_pred_real[:, 0])\n",
        "mse_lon = mean_squared_error(y_true_real[:, 1], y_pred_real[:, 1])\n",
        "\n",
        "print(f\"MAE Latitude réel   : {mae_lat:.4f}\")\n",
        "print(f\"MAE Longitude réel  : {mae_lon:.4f}\")\n",
        "print(f\"MSE Latitude réel   : {mse_lat:.4f}\")\n",
        "print(f\"MSE Longitude réel  : {mse_lon:.4f}\")\n",
        "\n",
        "# Si vous voulez un RMSE global (pour les deux dimensions), par exemple :\n",
        "rmse_global = np.sqrt(\n",
        "    mean_squared_error(\n",
        "        y_true_real.reshape(-1, 2),\n",
        "        y_pred_real.reshape(-1, 2)\n",
        "    )\n",
        ")\n",
        "print(f\"RMSE global (2D)    : {rmse_global:.4f}\")\n"
      ],
      "metadata": {
        "colab": {
          "base_uri": "https://localhost:8080/"
        },
        "id": "lvV1Wka5TGpK",
        "outputId": "d1e91b57-b090-447c-e7b3-ca56717a195d"
      },
      "execution_count": null,
      "outputs": [
        {
          "output_type": "stream",
          "name": "stdout",
          "text": [
            "Epoch 1/100\n",
            "\u001b[1m2820/2820\u001b[0m \u001b[32m━━━━━━━━━━━━━━━━━━━━\u001b[0m\u001b[37m\u001b[0m \u001b[1m24s\u001b[0m 7ms/step - loss: 0.0093 - mae: 0.0557 - val_loss: 9.5522e-04 - val_mae: 0.0214\n",
            "Epoch 2/100\n",
            "\u001b[1m2820/2820\u001b[0m \u001b[32m━━━━━━━━━━━━━━━━━━━━\u001b[0m\u001b[37m\u001b[0m \u001b[1m21s\u001b[0m 8ms/step - loss: 0.0011 - mae: 0.0223 - val_loss: 8.6617e-04 - val_mae: 0.0228\n",
            "Epoch 3/100\n",
            "\u001b[1m2820/2820\u001b[0m \u001b[32m━━━━━━━━━━━━━━━━━━━━\u001b[0m\u001b[37m\u001b[0m \u001b[1m39s\u001b[0m 7ms/step - loss: 7.5782e-04 - mae: 0.0183 - val_loss: 4.6625e-04 - val_mae: 0.0143\n",
            "Epoch 4/100\n",
            "\u001b[1m2820/2820\u001b[0m \u001b[32m━━━━━━━━━━━━━━━━━━━━\u001b[0m\u001b[37m\u001b[0m \u001b[1m19s\u001b[0m 7ms/step - loss: 6.3157e-04 - mae: 0.0162 - val_loss: 5.5403e-04 - val_mae: 0.0174\n",
            "Epoch 5/100\n",
            "\u001b[1m2820/2820\u001b[0m \u001b[32m━━━━━━━━━━━━━━━━━━━━\u001b[0m\u001b[37m\u001b[0m \u001b[1m23s\u001b[0m 8ms/step - loss: 5.5241e-04 - mae: 0.0149 - val_loss: 3.8884e-04 - val_mae: 0.0125\n",
            "Epoch 6/100\n",
            "\u001b[1m2820/2820\u001b[0m \u001b[32m━━━━━━━━━━━━━━━━━━━━\u001b[0m\u001b[37m\u001b[0m \u001b[1m42s\u001b[0m 8ms/step - loss: 5.0659e-04 - mae: 0.0142 - val_loss: 3.9483e-04 - val_mae: 0.0123\n",
            "Epoch 7/100\n",
            "\u001b[1m2820/2820\u001b[0m \u001b[32m━━━━━━━━━━━━━━━━━━━━\u001b[0m\u001b[37m\u001b[0m \u001b[1m39s\u001b[0m 7ms/step - loss: 5.1464e-04 - mae: 0.0142 - val_loss: 3.8430e-04 - val_mae: 0.0119\n",
            "Epoch 8/100\n",
            "\u001b[1m2820/2820\u001b[0m \u001b[32m━━━━━━━━━━━━━━━━━━━━\u001b[0m\u001b[37m\u001b[0m \u001b[1m42s\u001b[0m 8ms/step - loss: 4.9983e-04 - mae: 0.0136 - val_loss: 4.8542e-04 - val_mae: 0.0157\n",
            "Epoch 9/100\n",
            "\u001b[1m2820/2820\u001b[0m \u001b[32m━━━━━━━━━━━━━━━━━━━━\u001b[0m\u001b[37m\u001b[0m \u001b[1m41s\u001b[0m 8ms/step - loss: 4.8281e-04 - mae: 0.0134 - val_loss: 4.7271e-04 - val_mae: 0.0155\n",
            "Epoch 10/100\n",
            "\u001b[1m2820/2820\u001b[0m \u001b[32m━━━━━━━━━━━━━━━━━━━━\u001b[0m\u001b[37m\u001b[0m \u001b[1m41s\u001b[0m 8ms/step - loss: 4.9733e-04 - mae: 0.0135 - val_loss: 3.6906e-04 - val_mae: 0.0115\n",
            "Epoch 11/100\n",
            "\u001b[1m2820/2820\u001b[0m \u001b[32m━━━━━━━━━━━━━━━━━━━━\u001b[0m\u001b[37m\u001b[0m \u001b[1m39s\u001b[0m 7ms/step - loss: 4.7290e-04 - mae: 0.0131 - val_loss: 4.3092e-04 - val_mae: 0.0135\n",
            "Epoch 12/100\n",
            "\u001b[1m2820/2820\u001b[0m \u001b[32m━━━━━━━━━━━━━━━━━━━━\u001b[0m\u001b[37m\u001b[0m \u001b[1m19s\u001b[0m 7ms/step - loss: 4.6793e-04 - mae: 0.0132 - val_loss: 3.7500e-04 - val_mae: 0.0122\n",
            "Epoch 13/100\n",
            "\u001b[1m2820/2820\u001b[0m \u001b[32m━━━━━━━━━━━━━━━━━━━━\u001b[0m\u001b[37m\u001b[0m \u001b[1m22s\u001b[0m 7ms/step - loss: 4.7913e-04 - mae: 0.0131 - val_loss: 3.6824e-04 - val_mae: 0.0115\n",
            "Epoch 14/100\n",
            "\u001b[1m2820/2820\u001b[0m \u001b[32m━━━━━━━━━━━━━━━━━━━━\u001b[0m\u001b[37m\u001b[0m \u001b[1m22s\u001b[0m 8ms/step - loss: 4.4986e-04 - mae: 0.0128 - val_loss: 3.8654e-04 - val_mae: 0.0122\n",
            "Epoch 15/100\n",
            "\u001b[1m2820/2820\u001b[0m \u001b[32m━━━━━━━━━━━━━━━━━━━━\u001b[0m\u001b[37m\u001b[0m \u001b[1m38s\u001b[0m 7ms/step - loss: 4.6572e-04 - mae: 0.0129 - val_loss: 3.8608e-04 - val_mae: 0.0123\n",
            "Epoch 16/100\n",
            "\u001b[1m2820/2820\u001b[0m \u001b[32m━━━━━━━━━━━━━━━━━━━━\u001b[0m\u001b[37m\u001b[0m \u001b[1m22s\u001b[0m 8ms/step - loss: 4.6168e-04 - mae: 0.0127 - val_loss: 4.5653e-04 - val_mae: 0.0141\n",
            "Epoch 17/100\n",
            "\u001b[1m2820/2820\u001b[0m \u001b[32m━━━━━━━━━━━━━━━━━━━━\u001b[0m\u001b[37m\u001b[0m \u001b[1m41s\u001b[0m 8ms/step - loss: 4.7627e-04 - mae: 0.0129 - val_loss: 3.6359e-04 - val_mae: 0.0114\n",
            "Epoch 18/100\n",
            "\u001b[1m2820/2820\u001b[0m \u001b[32m━━━━━━━━━━━━━━━━━━━━\u001b[0m\u001b[37m\u001b[0m \u001b[1m41s\u001b[0m 8ms/step - loss: 4.6785e-04 - mae: 0.0128 - val_loss: 3.9179e-04 - val_mae: 0.0123\n",
            "Epoch 19/100\n",
            "\u001b[1m2820/2820\u001b[0m \u001b[32m━━━━━━━━━━━━━━━━━━━━\u001b[0m\u001b[37m\u001b[0m \u001b[1m41s\u001b[0m 8ms/step - loss: 4.3542e-04 - mae: 0.0126 - val_loss: 3.5949e-04 - val_mae: 0.0113\n",
            "Epoch 20/100\n",
            "\u001b[1m2820/2820\u001b[0m \u001b[32m━━━━━━━━━━━━━━━━━━━━\u001b[0m\u001b[37m\u001b[0m \u001b[1m22s\u001b[0m 8ms/step - loss: 4.5699e-04 - mae: 0.0127 - val_loss: 3.7354e-04 - val_mae: 0.0121\n",
            "Epoch 21/100\n",
            "\u001b[1m2820/2820\u001b[0m \u001b[32m━━━━━━━━━━━━━━━━━━━━\u001b[0m\u001b[37m\u001b[0m \u001b[1m38s\u001b[0m 7ms/step - loss: 4.6360e-04 - mae: 0.0127 - val_loss: 3.7766e-04 - val_mae: 0.0119\n",
            "Epoch 22/100\n",
            "\u001b[1m2820/2820\u001b[0m \u001b[32m━━━━━━━━━━━━━━━━━━━━\u001b[0m\u001b[37m\u001b[0m \u001b[1m23s\u001b[0m 8ms/step - loss: 4.7143e-04 - mae: 0.0129 - val_loss: 4.4508e-04 - val_mae: 0.0135\n",
            "Epoch 23/100\n",
            "\u001b[1m2820/2820\u001b[0m \u001b[32m━━━━━━━━━━━━━━━━━━━━\u001b[0m\u001b[37m\u001b[0m \u001b[1m19s\u001b[0m 7ms/step - loss: 4.7614e-04 - mae: 0.0129 - val_loss: 3.9595e-04 - val_mae: 0.0123\n",
            "Epoch 24/100\n",
            "\u001b[1m2820/2820\u001b[0m \u001b[32m━━━━━━━━━━━━━━━━━━━━\u001b[0m\u001b[37m\u001b[0m \u001b[1m22s\u001b[0m 7ms/step - loss: 4.5583e-04 - mae: 0.0126 - val_loss: 3.8723e-04 - val_mae: 0.0127\n",
            "Epoch 25/100\n",
            "\u001b[1m2820/2820\u001b[0m \u001b[32m━━━━━━━━━━━━━━━━━━━━\u001b[0m\u001b[37m\u001b[0m \u001b[1m43s\u001b[0m 8ms/step - loss: 4.5754e-04 - mae: 0.0127 - val_loss: 3.8931e-04 - val_mae: 0.0120\n",
            "Epoch 26/100\n",
            "\u001b[1m2820/2820\u001b[0m \u001b[32m━━━━━━━━━━━━━━━━━━━━\u001b[0m\u001b[37m\u001b[0m \u001b[1m41s\u001b[0m 8ms/step - loss: 4.5348e-04 - mae: 0.0126 - val_loss: 3.8066e-04 - val_mae: 0.0125\n",
            "Epoch 27/100\n",
            "\u001b[1m2820/2820\u001b[0m \u001b[32m━━━━━━━━━━━━━━━━━━━━\u001b[0m\u001b[37m\u001b[0m \u001b[1m38s\u001b[0m 7ms/step - loss: 4.5978e-04 - mae: 0.0127 - val_loss: 3.6019e-04 - val_mae: 0.0115\n",
            "Epoch 28/100\n",
            "\u001b[1m2820/2820\u001b[0m \u001b[32m━━━━━━━━━━━━━━━━━━━━\u001b[0m\u001b[37m\u001b[0m \u001b[1m41s\u001b[0m 7ms/step - loss: 4.3817e-04 - mae: 0.0126 - val_loss: 4.0616e-04 - val_mae: 0.0133\n",
            "Epoch 29/100\n",
            "\u001b[1m2820/2820\u001b[0m \u001b[32m━━━━━━━━━━━━━━━━━━━━\u001b[0m\u001b[37m\u001b[0m \u001b[1m19s\u001b[0m 7ms/step - loss: 4.1906e-04 - mae: 0.0123 - val_loss: 3.6150e-04 - val_mae: 0.0116\n",
            "Epoch 30/100\n",
            "\u001b[1m2820/2820\u001b[0m \u001b[32m━━━━━━━━━━━━━━━━━━━━\u001b[0m\u001b[37m\u001b[0m \u001b[1m22s\u001b[0m 8ms/step - loss: 4.4007e-04 - mae: 0.0125 - val_loss: 3.9118e-04 - val_mae: 0.0127\n",
            "Epoch 31/100\n",
            "\u001b[1m2820/2820\u001b[0m \u001b[32m━━━━━━━━━━━━━━━━━━━━\u001b[0m\u001b[37m\u001b[0m \u001b[1m40s\u001b[0m 7ms/step - loss: 4.3799e-04 - mae: 0.0124 - val_loss: 3.8112e-04 - val_mae: 0.0122\n",
            "Epoch 32/100\n",
            "\u001b[1m2820/2820\u001b[0m \u001b[32m━━━━━━━━━━━━━━━━━━━━\u001b[0m\u001b[37m\u001b[0m \u001b[1m19s\u001b[0m 7ms/step - loss: 4.4604e-04 - mae: 0.0126 - val_loss: 3.5894e-04 - val_mae: 0.0115\n",
            "Epoch 33/100\n",
            "\u001b[1m2820/2820\u001b[0m \u001b[32m━━━━━━━━━━━━━━━━━━━━\u001b[0m\u001b[37m\u001b[0m \u001b[1m19s\u001b[0m 7ms/step - loss: 4.5471e-04 - mae: 0.0126 - val_loss: 3.7645e-04 - val_mae: 0.0123\n",
            "Epoch 34/100\n",
            "\u001b[1m2820/2820\u001b[0m \u001b[32m━━━━━━━━━━━━━━━━━━━━\u001b[0m\u001b[37m\u001b[0m \u001b[1m22s\u001b[0m 7ms/step - loss: 4.1554e-04 - mae: 0.0124 - val_loss: 3.7227e-04 - val_mae: 0.0118\n",
            "Epoch 35/100\n",
            "\u001b[1m2820/2820\u001b[0m \u001b[32m━━━━━━━━━━━━━━━━━━━━\u001b[0m\u001b[37m\u001b[0m \u001b[1m19s\u001b[0m 7ms/step - loss: 4.2843e-04 - mae: 0.0124 - val_loss: 3.8496e-04 - val_mae: 0.0122\n",
            "Epoch 36/100\n",
            "\u001b[1m2820/2820\u001b[0m \u001b[32m━━━━━━━━━━━━━━━━━━━━\u001b[0m\u001b[37m\u001b[0m \u001b[1m22s\u001b[0m 8ms/step - loss: 4.4517e-04 - mae: 0.0126 - val_loss: 3.8037e-04 - val_mae: 0.0126\n",
            "Epoch 37/100\n",
            "\u001b[1m2820/2820\u001b[0m \u001b[32m━━━━━━━━━━━━━━━━━━━━\u001b[0m\u001b[37m\u001b[0m \u001b[1m44s\u001b[0m 9ms/step - loss: 4.5957e-04 - mae: 0.0127 - val_loss: 3.9194e-04 - val_mae: 0.0127\n",
            "Epoch 38/100\n",
            "\u001b[1m2820/2820\u001b[0m \u001b[32m━━━━━━━━━━━━━━━━━━━━\u001b[0m\u001b[37m\u001b[0m \u001b[1m19s\u001b[0m 7ms/step - loss: 4.5682e-04 - mae: 0.0125 - val_loss: 3.9290e-04 - val_mae: 0.0127\n",
            "Epoch 39/100\n",
            "\u001b[1m2820/2820\u001b[0m \u001b[32m━━━━━━━━━━━━━━━━━━━━\u001b[0m\u001b[37m\u001b[0m \u001b[1m22s\u001b[0m 7ms/step - loss: 4.4232e-04 - mae: 0.0125 - val_loss: 3.5557e-04 - val_mae: 0.0114\n",
            "Epoch 40/100\n",
            "\u001b[1m2820/2820\u001b[0m \u001b[32m━━━━━━━━━━━━━━━━━━━━\u001b[0m\u001b[37m\u001b[0m \u001b[1m19s\u001b[0m 7ms/step - loss: 4.4074e-04 - mae: 0.0124 - val_loss: 3.7501e-04 - val_mae: 0.0121\n",
            "Epoch 41/100\n",
            "\u001b[1m2820/2820\u001b[0m \u001b[32m━━━━━━━━━━━━━━━━━━━━\u001b[0m\u001b[37m\u001b[0m \u001b[1m22s\u001b[0m 8ms/step - loss: 4.4360e-04 - mae: 0.0125 - val_loss: 3.9117e-04 - val_mae: 0.0125\n",
            "Epoch 42/100\n",
            "\u001b[1m2820/2820\u001b[0m \u001b[32m━━━━━━━━━━━━━━━━━━━━\u001b[0m\u001b[37m\u001b[0m \u001b[1m40s\u001b[0m 7ms/step - loss: 4.3303e-04 - mae: 0.0124 - val_loss: 4.0540e-04 - val_mae: 0.0129\n",
            "Epoch 43/100\n",
            "\u001b[1m2820/2820\u001b[0m \u001b[32m━━━━━━━━━━━━━━━━━━━━\u001b[0m\u001b[37m\u001b[0m \u001b[1m46s\u001b[0m 9ms/step - loss: 4.3835e-04 - mae: 0.0125 - val_loss: 4.2389e-04 - val_mae: 0.0132\n",
            "Epoch 44/100\n",
            "\u001b[1m2820/2820\u001b[0m \u001b[32m━━━━━━━━━━━━━━━━━━━━\u001b[0m\u001b[37m\u001b[0m \u001b[1m38s\u001b[0m 8ms/step - loss: 4.3172e-04 - mae: 0.0124 - val_loss: 3.6069e-04 - val_mae: 0.0114\n",
            "Epoch 45/100\n",
            "\u001b[1m2820/2820\u001b[0m \u001b[32m━━━━━━━━━━━━━━━━━━━━\u001b[0m\u001b[37m\u001b[0m \u001b[1m41s\u001b[0m 8ms/step - loss: 4.5278e-04 - mae: 0.0125 - val_loss: 3.6490e-04 - val_mae: 0.0115\n",
            "Epoch 46/100\n",
            "\u001b[1m2820/2820\u001b[0m \u001b[32m━━━━━━━━━━━━━━━━━━━━\u001b[0m\u001b[37m\u001b[0m \u001b[1m19s\u001b[0m 7ms/step - loss: 4.2050e-04 - mae: 0.0123 - val_loss: 3.6237e-04 - val_mae: 0.0114\n",
            "Epoch 47/100\n",
            "\u001b[1m2820/2820\u001b[0m \u001b[32m━━━━━━━━━━━━━━━━━━━━\u001b[0m\u001b[37m\u001b[0m \u001b[1m22s\u001b[0m 8ms/step - loss: 4.4853e-04 - mae: 0.0125 - val_loss: 3.8588e-04 - val_mae: 0.0124\n",
            "Epoch 48/100\n",
            "\u001b[1m2820/2820\u001b[0m \u001b[32m━━━━━━━━━━━━━━━━━━━━\u001b[0m\u001b[37m\u001b[0m \u001b[1m19s\u001b[0m 7ms/step - loss: 4.3295e-04 - mae: 0.0124 - val_loss: 3.8449e-04 - val_mae: 0.0122\n",
            "Epoch 49/100\n",
            "\u001b[1m2820/2820\u001b[0m \u001b[32m━━━━━━━━━━━━━━━━━━━━\u001b[0m\u001b[37m\u001b[0m \u001b[1m23s\u001b[0m 8ms/step - loss: 4.3389e-04 - mae: 0.0125 - val_loss: 3.8542e-04 - val_mae: 0.0120\n",
            "Epoch 50/100\n",
            "\u001b[1m2820/2820\u001b[0m \u001b[32m━━━━━━━━━━━━━━━━━━━━\u001b[0m\u001b[37m\u001b[0m \u001b[1m19s\u001b[0m 7ms/step - loss: 4.2406e-04 - mae: 0.0124 - val_loss: 3.7975e-04 - val_mae: 0.0121\n",
            "Epoch 51/100\n",
            "\u001b[1m2820/2820\u001b[0m \u001b[32m━━━━━━━━━━━━━━━━━━━━\u001b[0m\u001b[37m\u001b[0m \u001b[1m22s\u001b[0m 7ms/step - loss: 4.4531e-04 - mae: 0.0124 - val_loss: 3.5326e-04 - val_mae: 0.0112\n",
            "Epoch 52/100\n",
            "\u001b[1m2820/2820\u001b[0m \u001b[32m━━━━━━━━━━━━━━━━━━━━\u001b[0m\u001b[37m\u001b[0m \u001b[1m20s\u001b[0m 7ms/step - loss: 4.1297e-04 - mae: 0.0121 - val_loss: 3.6681e-04 - val_mae: 0.0116\n",
            "Epoch 53/100\n",
            "\u001b[1m2820/2820\u001b[0m \u001b[32m━━━━━━━━━━━━━━━━━━━━\u001b[0m\u001b[37m\u001b[0m \u001b[1m19s\u001b[0m 7ms/step - loss: 4.0516e-04 - mae: 0.0121 - val_loss: 3.7286e-04 - val_mae: 0.0120\n",
            "Epoch 54/100\n",
            "\u001b[1m2820/2820\u001b[0m \u001b[32m━━━━━━━━━━━━━━━━━━━━\u001b[0m\u001b[37m\u001b[0m \u001b[1m22s\u001b[0m 7ms/step - loss: 4.1882e-04 - mae: 0.0122 - val_loss: 3.8800e-04 - val_mae: 0.0124\n",
            "Epoch 55/100\n",
            "\u001b[1m2820/2820\u001b[0m \u001b[32m━━━━━━━━━━━━━━━━━━━━\u001b[0m\u001b[37m\u001b[0m \u001b[1m19s\u001b[0m 7ms/step - loss: 4.3821e-04 - mae: 0.0125 - val_loss: 3.5978e-04 - val_mae: 0.0115\n",
            "Epoch 56/100\n",
            "\u001b[1m2820/2820\u001b[0m \u001b[32m━━━━━━━━━━━━━━━━━━━━\u001b[0m\u001b[37m\u001b[0m \u001b[1m22s\u001b[0m 7ms/step - loss: 4.2467e-04 - mae: 0.0122 - val_loss: 3.7625e-04 - val_mae: 0.0123\n",
            "Epoch 57/100\n",
            "\u001b[1m2820/2820\u001b[0m \u001b[32m━━━━━━━━━━━━━━━━━━━━\u001b[0m\u001b[37m\u001b[0m \u001b[1m43s\u001b[0m 8ms/step - loss: 4.2975e-04 - mae: 0.0123 - val_loss: 3.7581e-04 - val_mae: 0.0123\n",
            "Epoch 58/100\n",
            "\u001b[1m2820/2820\u001b[0m \u001b[32m━━━━━━━━━━━━━━━━━━━━\u001b[0m\u001b[37m\u001b[0m \u001b[1m41s\u001b[0m 8ms/step - loss: 4.2991e-04 - mae: 0.0123 - val_loss: 3.5710e-04 - val_mae: 0.0114\n",
            "Epoch 59/100\n",
            "\u001b[1m2820/2820\u001b[0m \u001b[32m━━━━━━━━━━━━━━━━━━━━\u001b[0m\u001b[37m\u001b[0m \u001b[1m39s\u001b[0m 7ms/step - loss: 4.1330e-04 - mae: 0.0122 - val_loss: 3.6647e-04 - val_mae: 0.0121\n",
            "Epoch 60/100\n",
            "\u001b[1m2820/2820\u001b[0m \u001b[32m━━━━━━━━━━━━━━━━━━━━\u001b[0m\u001b[37m\u001b[0m \u001b[1m41s\u001b[0m 7ms/step - loss: 4.0693e-04 - mae: 0.0121 - val_loss: 4.2105e-04 - val_mae: 0.0138\n",
            "Epoch 61/100\n",
            "\u001b[1m2820/2820\u001b[0m \u001b[32m━━━━━━━━━━━━━━━━━━━━\u001b[0m\u001b[37m\u001b[0m \u001b[1m19s\u001b[0m 7ms/step - loss: 4.3527e-04 - mae: 0.0124 - val_loss: 3.6541e-04 - val_mae: 0.0117\n",
            "Epoch 62/100\n",
            "\u001b[1m2820/2820\u001b[0m \u001b[32m━━━━━━━━━━━━━━━━━━━━\u001b[0m\u001b[37m\u001b[0m \u001b[1m22s\u001b[0m 8ms/step - loss: 4.1731e-04 - mae: 0.0122 - val_loss: 3.6443e-04 - val_mae: 0.0116\n",
            "Epoch 63/100\n",
            "\u001b[1m2820/2820\u001b[0m \u001b[32m━━━━━━━━━━━━━━━━━━━━\u001b[0m\u001b[37m\u001b[0m \u001b[1m41s\u001b[0m 8ms/step - loss: 4.1177e-04 - mae: 0.0121 - val_loss: 3.8459e-04 - val_mae: 0.0118\n",
            "Epoch 64/100\n",
            "\u001b[1m2820/2820\u001b[0m \u001b[32m━━━━━━━━━━━━━━━━━━━━\u001b[0m\u001b[37m\u001b[0m \u001b[1m41s\u001b[0m 8ms/step - loss: 4.3106e-04 - mae: 0.0123 - val_loss: 3.6836e-04 - val_mae: 0.0119\n",
            "Epoch 65/100\n",
            "\u001b[1m2820/2820\u001b[0m \u001b[32m━━━━━━━━━━━━━━━━━━━━\u001b[0m\u001b[37m\u001b[0m \u001b[1m39s\u001b[0m 7ms/step - loss: 4.1279e-04 - mae: 0.0122 - val_loss: 3.5922e-04 - val_mae: 0.0116\n",
            "Epoch 66/100\n",
            "\u001b[1m2820/2820\u001b[0m \u001b[32m━━━━━━━━━━━━━━━━━━━━\u001b[0m\u001b[37m\u001b[0m \u001b[1m41s\u001b[0m 7ms/step - loss: 4.3955e-04 - mae: 0.0123 - val_loss: 3.7790e-04 - val_mae: 0.0121\n",
            "Epoch 67/100\n",
            "\u001b[1m2820/2820\u001b[0m \u001b[32m━━━━━━━━━━━━━━━━━━━━\u001b[0m\u001b[37m\u001b[0m \u001b[1m19s\u001b[0m 7ms/step - loss: 4.1078e-04 - mae: 0.0122 - val_loss: 3.6185e-04 - val_mae: 0.0115\n",
            "Epoch 68/100\n",
            "\u001b[1m2820/2820\u001b[0m \u001b[32m━━━━━━━━━━━━━━━━━━━━\u001b[0m\u001b[37m\u001b[0m \u001b[1m22s\u001b[0m 7ms/step - loss: 4.2088e-04 - mae: 0.0124 - val_loss: 3.6282e-04 - val_mae: 0.0116\n",
            "Epoch 69/100\n",
            "\u001b[1m2820/2820\u001b[0m \u001b[32m━━━━━━━━━━━━━━━━━━━━\u001b[0m\u001b[37m\u001b[0m \u001b[1m42s\u001b[0m 8ms/step - loss: 4.0993e-04 - mae: 0.0121 - val_loss: 3.7589e-04 - val_mae: 0.0118\n",
            "Epoch 70/100\n",
            "\u001b[1m2820/2820\u001b[0m \u001b[32m━━━━━━━━━━━━━━━━━━━━\u001b[0m\u001b[37m\u001b[0m \u001b[1m19s\u001b[0m 7ms/step - loss: 3.9889e-04 - mae: 0.0120 - val_loss: 3.6491e-04 - val_mae: 0.0116\n",
            "Epoch 71/100\n",
            "\u001b[1m2820/2820\u001b[0m \u001b[32m━━━━━━━━━━━━━━━━━━━━\u001b[0m\u001b[37m\u001b[0m \u001b[1m23s\u001b[0m 8ms/step - loss: 4.0734e-04 - mae: 0.0121 - val_loss: 3.6259e-04 - val_mae: 0.0117\n",
            "Epoch 72/100\n",
            "\u001b[1m2820/2820\u001b[0m \u001b[32m━━━━━━━━━━━━━━━━━━━━\u001b[0m\u001b[37m\u001b[0m \u001b[1m19s\u001b[0m 7ms/step - loss: 3.9753e-04 - mae: 0.0119 - val_loss: 3.5606e-04 - val_mae: 0.0114\n",
            "Epoch 73/100\n",
            "\u001b[1m2820/2820\u001b[0m \u001b[32m━━━━━━━━━━━━━━━━━━━━\u001b[0m\u001b[37m\u001b[0m \u001b[1m22s\u001b[0m 8ms/step - loss: 4.0066e-04 - mae: 0.0120 - val_loss: 3.6475e-04 - val_mae: 0.0115\n",
            "Epoch 74/100\n",
            "\u001b[1m2820/2820\u001b[0m \u001b[32m━━━━━━━━━━━━━━━━━━━━\u001b[0m\u001b[37m\u001b[0m \u001b[1m19s\u001b[0m 7ms/step - loss: 4.0459e-04 - mae: 0.0120 - val_loss: 4.0017e-04 - val_mae: 0.0124\n",
            "Epoch 75/100\n",
            "\u001b[1m2820/2820\u001b[0m \u001b[32m━━━━━━━━━━━━━━━━━━━━\u001b[0m\u001b[37m\u001b[0m \u001b[1m22s\u001b[0m 7ms/step - loss: 3.9966e-04 - mae: 0.0121 - val_loss: 3.8545e-04 - val_mae: 0.0125\n",
            "Epoch 76/100\n",
            "\u001b[1m2820/2820\u001b[0m \u001b[32m━━━━━━━━━━━━━━━━━━━━\u001b[0m\u001b[37m\u001b[0m \u001b[1m20s\u001b[0m 7ms/step - loss: 4.2188e-04 - mae: 0.0122 - val_loss: 3.7506e-04 - val_mae: 0.0119\n",
            "Epoch 77/100\n",
            "\u001b[1m2820/2820\u001b[0m \u001b[32m━━━━━━━━━━━━━━━━━━━━\u001b[0m\u001b[37m\u001b[0m \u001b[1m20s\u001b[0m 7ms/step - loss: 4.3078e-04 - mae: 0.0122 - val_loss: 3.7793e-04 - val_mae: 0.0122\n",
            "Epoch 78/100\n",
            "\u001b[1m2820/2820\u001b[0m \u001b[32m━━━━━━━━━━━━━━━━━━━━\u001b[0m\u001b[37m\u001b[0m \u001b[1m23s\u001b[0m 8ms/step - loss: 4.1065e-04 - mae: 0.0121 - val_loss: 3.6935e-04 - val_mae: 0.0119\n",
            "Epoch 79/100\n",
            "\u001b[1m2820/2820\u001b[0m \u001b[32m━━━━━━━━━━━━━━━━━━━━\u001b[0m\u001b[37m\u001b[0m \u001b[1m19s\u001b[0m 7ms/step - loss: 4.0364e-04 - mae: 0.0122 - val_loss: 3.9038e-04 - val_mae: 0.0121\n",
            "Epoch 80/100\n",
            "\u001b[1m2820/2820\u001b[0m \u001b[32m━━━━━━━━━━━━━━━━━━━━\u001b[0m\u001b[37m\u001b[0m \u001b[1m22s\u001b[0m 8ms/step - loss: 4.0946e-04 - mae: 0.0121 - val_loss: 3.7420e-04 - val_mae: 0.0119\n",
            "Epoch 81/100\n",
            "\u001b[1m2820/2820\u001b[0m \u001b[32m━━━━━━━━━━━━━━━━━━━━\u001b[0m\u001b[37m\u001b[0m \u001b[1m44s\u001b[0m 9ms/step - loss: 4.2426e-04 - mae: 0.0121 - val_loss: 3.7023e-04 - val_mae: 0.0119\n",
            "Epoch 82/100\n",
            "\u001b[1m2820/2820\u001b[0m \u001b[32m━━━━━━━━━━━━━━━━━━━━\u001b[0m\u001b[37m\u001b[0m \u001b[1m25s\u001b[0m 9ms/step - loss: 3.9721e-04 - mae: 0.0120 - val_loss: 3.8862e-04 - val_mae: 0.0122\n",
            "Epoch 83/100\n",
            "\u001b[1m2820/2820\u001b[0m \u001b[32m━━━━━━━━━━━━━━━━━━━━\u001b[0m\u001b[37m\u001b[0m \u001b[1m23s\u001b[0m 8ms/step - loss: 4.2217e-04 - mae: 0.0123 - val_loss: 3.7257e-04 - val_mae: 0.0119\n",
            "Epoch 84/100\n",
            "\u001b[1m2820/2820\u001b[0m \u001b[32m━━━━━━━━━━━━━━━━━━━━\u001b[0m\u001b[37m\u001b[0m \u001b[1m41s\u001b[0m 8ms/step - loss: 3.8867e-04 - mae: 0.0120 - val_loss: 3.9697e-04 - val_mae: 0.0125\n",
            "Epoch 85/100\n",
            "\u001b[1m2820/2820\u001b[0m \u001b[32m━━━━━━━━━━━━━━━━━━━━\u001b[0m\u001b[37m\u001b[0m \u001b[1m24s\u001b[0m 8ms/step - loss: 4.1192e-04 - mae: 0.0121 - val_loss: 3.5792e-04 - val_mae: 0.0115\n",
            "Epoch 86/100\n",
            "\u001b[1m2820/2820\u001b[0m \u001b[32m━━━━━━━━━━━━━━━━━━━━\u001b[0m\u001b[37m\u001b[0m \u001b[1m24s\u001b[0m 9ms/step - loss: 4.0048e-04 - mae: 0.0120 - val_loss: 3.6908e-04 - val_mae: 0.0120\n",
            "Epoch 87/100\n",
            "\u001b[1m2820/2820\u001b[0m \u001b[32m━━━━━━━━━━━━━━━━━━━━\u001b[0m\u001b[37m\u001b[0m \u001b[1m25s\u001b[0m 9ms/step - loss: 4.0031e-04 - mae: 0.0120 - val_loss: 3.6507e-04 - val_mae: 0.0119\n",
            "Epoch 88/100\n",
            "\u001b[1m2820/2820\u001b[0m \u001b[32m━━━━━━━━━━━━━━━━━━━━\u001b[0m\u001b[37m\u001b[0m \u001b[1m23s\u001b[0m 8ms/step - loss: 4.0840e-04 - mae: 0.0120 - val_loss: 3.6971e-04 - val_mae: 0.0120\n",
            "Epoch 89/100\n",
            "\u001b[1m2820/2820\u001b[0m \u001b[32m━━━━━━━━━━━━━━━━━━━━\u001b[0m\u001b[37m\u001b[0m \u001b[1m43s\u001b[0m 9ms/step - loss: 4.1505e-04 - mae: 0.0121 - val_loss: 3.5833e-04 - val_mae: 0.0113\n",
            "Epoch 90/100\n",
            "\u001b[1m2820/2820\u001b[0m \u001b[32m━━━━━━━━━━━━━━━━━━━━\u001b[0m\u001b[37m\u001b[0m \u001b[1m24s\u001b[0m 8ms/step - loss: 4.1417e-04 - mae: 0.0120 - val_loss: 3.8464e-04 - val_mae: 0.0125\n",
            "Epoch 91/100\n",
            "\u001b[1m2820/2820\u001b[0m \u001b[32m━━━━━━━━━━━━━━━━━━━━\u001b[0m\u001b[37m\u001b[0m \u001b[1m41s\u001b[0m 9ms/step - loss: 4.1430e-04 - mae: 0.0121 - val_loss: 3.6429e-04 - val_mae: 0.0114\n",
            "Epoch 92/100\n",
            "\u001b[1m2820/2820\u001b[0m \u001b[32m━━━━━━━━━━━━━━━━━━━━\u001b[0m\u001b[37m\u001b[0m \u001b[1m41s\u001b[0m 9ms/step - loss: 4.0856e-04 - mae: 0.0122 - val_loss: 3.7567e-04 - val_mae: 0.0122\n",
            "Epoch 93/100\n",
            "\u001b[1m2820/2820\u001b[0m \u001b[32m━━━━━━━━━━━━━━━━━━━━\u001b[0m\u001b[37m\u001b[0m \u001b[1m25s\u001b[0m 9ms/step - loss: 4.0686e-04 - mae: 0.0120 - val_loss: 3.6601e-04 - val_mae: 0.0115\n",
            "Epoch 94/100\n",
            "\u001b[1m2820/2820\u001b[0m \u001b[32m━━━━━━━━━━━━━━━━━━━━\u001b[0m\u001b[37m\u001b[0m \u001b[1m41s\u001b[0m 9ms/step - loss: 3.9802e-04 - mae: 0.0121 - val_loss: 3.9485e-04 - val_mae: 0.0125\n",
            "Epoch 95/100\n",
            "\u001b[1m2820/2820\u001b[0m \u001b[32m━━━━━━━━━━━━━━━━━━━━\u001b[0m\u001b[37m\u001b[0m \u001b[1m41s\u001b[0m 9ms/step - loss: 4.2021e-04 - mae: 0.0122 - val_loss: 3.7304e-04 - val_mae: 0.0118\n",
            "Epoch 96/100\n",
            "\u001b[1m2820/2820\u001b[0m \u001b[32m━━━━━━━━━━━━━━━━━━━━\u001b[0m\u001b[37m\u001b[0m \u001b[1m41s\u001b[0m 9ms/step - loss: 4.3608e-04 - mae: 0.0122 - val_loss: 3.6896e-04 - val_mae: 0.0117\n",
            "Epoch 97/100\n",
            "\u001b[1m2820/2820\u001b[0m \u001b[32m━━━━━━━━━━━━━━━━━━━━\u001b[0m\u001b[37m\u001b[0m \u001b[1m23s\u001b[0m 8ms/step - loss: 4.0063e-04 - mae: 0.0120 - val_loss: 3.7312e-04 - val_mae: 0.0116\n",
            "Epoch 98/100\n",
            "\u001b[1m2820/2820\u001b[0m \u001b[32m━━━━━━━━━━━━━━━━━━━━\u001b[0m\u001b[37m\u001b[0m \u001b[1m25s\u001b[0m 9ms/step - loss: 4.0532e-04 - mae: 0.0122 - val_loss: 3.9293e-04 - val_mae: 0.0129\n",
            "Epoch 99/100\n",
            "\u001b[1m2820/2820\u001b[0m \u001b[32m━━━━━━━━━━━━━━━━━━━━\u001b[0m\u001b[37m\u001b[0m \u001b[1m40s\u001b[0m 9ms/step - loss: 4.0562e-04 - mae: 0.0120 - val_loss: 3.7290e-04 - val_mae: 0.0119\n",
            "Epoch 100/100\n",
            "\u001b[1m2820/2820\u001b[0m \u001b[32m━━━━━━━━━━━━━━━━━━━━\u001b[0m\u001b[37m\u001b[0m \u001b[1m25s\u001b[0m 9ms/step - loss: 4.1148e-04 - mae: 0.0121 - val_loss: 3.9218e-04 - val_mae: 0.0126\n",
            "\u001b[1m285/285\u001b[0m \u001b[32m━━━━━━━━━━━━━━━━━━━━\u001b[0m\u001b[37m\u001b[0m \u001b[1m2s\u001b[0m 4ms/step\n",
            "MAE Latitude réel   : 3.0171\n",
            "MAE Longitude réel  : 4.9196\n",
            "MSE Latitude réel   : 19.3442\n",
            "MSE Longitude réel  : 51.4707\n",
            "RMSE global (2D)    : 5.9504\n"
          ]
        }
      ]
    },
    {
      "cell_type": "code",
      "source": [
        "import matplotlib.pyplot as plt\n",
        "\n",
        "# Plot training and validation loss\n",
        "plt.figure(figsize=(12, 6))\n",
        "plt.plot(history.history['loss'], label='Training Loss')\n",
        "if 'val_loss' in history.history:\n",
        "    plt.plot(history.history['val_loss'], label='Validation Loss')\n",
        "plt.title('Model Loss over Epochs')\n",
        "plt.xlabel('Epoch')\n",
        "plt.ylabel('Loss')\n",
        "plt.legend()\n",
        "plt.grid(True)\n",
        "plt.show()\n",
        "\n",
        "# Plot training and validation MAE\n",
        "plt.figure(figsize=(12, 6))\n",
        "plt.plot(history.history['mae'], label='Training MAE')\n",
        "if 'val_mae' in history.history:\n",
        "    plt.plot(history.history['val_mae'], label='Validation MAE')\n",
        "plt.title('Model MAE over Epochs')\n",
        "plt.xlabel('Epoch')\n",
        "plt.ylabel('MAE')\n",
        "plt.legend()\n",
        "plt.grid(True)\n",
        "plt.show()"
      ],
      "metadata": {
        "colab": {
          "base_uri": "https://localhost:8080/",
          "height": 1000
        },
        "id": "K2Vq7l9LS82A",
        "outputId": "0962d92e-461f-4561-ce11-020ea5f54145"
      },
      "execution_count": null,
      "outputs": [
        {
          "output_type": "display_data",
          "data": {
            "text/plain": [
              "<Figure size 1200x600 with 1 Axes>"
            ],
            "image/png": "[encoded data removed]"
          },
          "metadata": {}
        },
        {
          "output_type": "display_data",
          "data": {
            "text/plain": [
              "<Figure size 1200x600 with 1 Axes>"
            ],
            "image/png": "[encoded data removed]"
          },
          "metadata": {}
        }
      ]
    },
    {
      "cell_type": "markdown",
      "source": [
        "**explore num epoch needed**"
      ],
      "metadata": {
        "id": "o_fyi7m92nP4"
      }
    },
    {
      "cell_type": "code",
      "source": [
        "seq_length = 5\n",
        "model = create_bilstm_model(seq_length)\n",
        "history , mae , mse = train_model(df , model , seq_length , 60 , 8)"
      ],
      "metadata": {
        "colab": {
          "base_uri": "https://localhost:8080/"
        },
        "id": "tshoeU9l2oGm",
        "outputId": "8e129dcc-025c-4710-ed92-580fbeb81a30"
      },
      "execution_count": null,
      "outputs": [
        {
          "output_type": "stream",
          "name": "stdout",
          "text": [
            "skipped tornadoe : 37\n",
            "loss = 0.0000, mae = 0.0037\n",
            "\u001b[1m285/285\u001b[0m \u001b[32m━━━━━━━━━━━━━━━━━━━━\u001b[0m\u001b[37m\u001b[0m \u001b[1m1s\u001b[0m 3ms/step\n"
          ]
        }
      ]
    },
    {
      "cell_type": "code",
      "source": [
        "print(f'Real-scale MAE: {mae:.4f}, MSE: {mse:.4f}')"
      ],
      "metadata": {
        "colab": {
          "base_uri": "https://localhost:8080/"
        },
        "id": "O5-azVJAhpNv",
        "outputId": "4958fd8e-d5fc-4355-aa9f-8cf4761ee88f"
      },
      "execution_count": null,
      "outputs": [
        {
          "output_type": "stream",
          "name": "stdout",
          "text": [
            "Real-scale MAE: 3.9101, MSE: 34.7803\n"
          ]
        }
      ]
    },
    {
      "cell_type": "code",
      "source": [
        "model.save('bilstm_model.h5')"
      ],
      "metadata": {
        "colab": {
          "base_uri": "https://localhost:8080/"
        },
        "id": "XWD8Fv-AkR9Q",
        "outputId": "92428dc8-18b3-48ad-8de4-317e59cb7abe"
      },
      "execution_count": null,
      "outputs": [
        {
          "output_type": "stream",
          "name": "stderr",
          "text": [
            "WARNING:absl:You are saving your model as an HDF5 file via `model.save()` or `keras.saving.save_model(model)`. This file format is considered legacy. We recommend using instead the native Keras format, e.g. `model.save('my_model.keras')` or `keras.saving.save_model(model, 'my_model.keras')`. \n"
          ]
        }
      ]
    },
    {
      "cell_type": "code",
      "source": [
        "model.summary()"
      ],
      "metadata": {
        "colab": {
          "base_uri": "https://localhost:8080/",
          "height": 209
        },
        "id": "uPdtmn_jkday",
        "outputId": "0e677677-37ff-4975-c8e6-754ec19b8083"
      },
      "execution_count": null,
      "outputs": [
        {
          "output_type": "display_data",
          "data": {
            "text/plain": [
              "\u001b[1mModel: \"sequential_2\"\u001b[0m\n"
            ],
            "text/html": [
              "<pre style=\"white-space:pre;overflow-x:auto;line-height:normal;font-family:Menlo,'DejaVu Sans Mono',consolas,'Courier New',monospace\"><span style=\"font-weight: bold\">Model: \"sequential_2\"</span>\n",
              "</pre>\n"
            ]
          },
          "metadata": {}
        },
        {
          "output_type": "display_data",
          "data": {
            "text/plain": [
              "┏━━━━━━━━━━━━━━━━━━━━━━━━━━━━━━━━━┳━━━━━━━━━━━━━━━━━━━━━━━━┳━━━━━━━━━━━━━━━┓\n",
              "┃\u001b[1m \u001b[0m\u001b[1mLayer (type)                   \u001b[0m\u001b[1m \u001b[0m┃\u001b[1m \u001b[0m\u001b[1mOutput Shape          \u001b[0m\u001b[1m \u001b[0m┃\u001b[1m \u001b[0m\u001b[1m      Param #\u001b[0m\u001b[1m \u001b[0m┃\n",
              "┡━━━━━━━━━━━━━━━━━━━━━━━━━━━━━━━━━╇━━━━━━━━━━━━━━━━━━━━━━━━╇━━━━━━━━━━━━━━━┩\n",
              "│ bidirectional_2 (\u001b[38;5;33mBidirectional\u001b[0m) │ (\u001b[38;5;45mNone\u001b[0m, \u001b[38;5;34m128\u001b[0m)            │        \u001b[38;5;34m34,304\u001b[0m │\n",
              "├─────────────────────────────────┼────────────────────────┼───────────────┤\n",
              "│ dense_2 (\u001b[38;5;33mDense\u001b[0m)                 │ (\u001b[38;5;45mNone\u001b[0m, \u001b[38;5;34m2\u001b[0m)              │           \u001b[38;5;34m258\u001b[0m │\n",
              "└─────────────────────────────────┴────────────────────────┴───────────────┘\n"
            ],
            "text/html": [
              "<pre style=\"white-space:pre;overflow-x:auto;line-height:normal;font-family:Menlo,'DejaVu Sans Mono',consolas,'Courier New',monospace\">┏━━━━━━━━━━━━━━━━━━━━━━━━━━━━━━━━━┳━━━━━━━━━━━━━━━━━━━━━━━━┳━━━━━━━━━━━━━━━┓\n",
              "┃<span style=\"font-weight: bold\"> Layer (type)                    </span>┃<span style=\"font-weight: bold\"> Output Shape           </span>┃<span style=\"font-weight: bold\">       Param # </span>┃\n",
              "┡━━━━━━━━━━━━━━━━━━━━━━━━━━━━━━━━━╇━━━━━━━━━━━━━━━━━━━━━━━━╇━━━━━━━━━━━━━━━┩\n",
              "│ bidirectional_2 (<span style=\"color: #0087ff; text-decoration-color: #0087ff\">Bidirectional</span>) │ (<span style=\"color: #00d7ff; text-decoration-color: #00d7ff\">None</span>, <span style=\"color: #00af00; text-decoration-color: #00af00\">128</span>)            │        <span style=\"color: #00af00; text-decoration-color: #00af00\">34,304</span> │\n",
              "├─────────────────────────────────┼────────────────────────┼───────────────┤\n",
              "│ dense_2 (<span style=\"color: #0087ff; text-decoration-color: #0087ff\">Dense</span>)                 │ (<span style=\"color: #00d7ff; text-decoration-color: #00d7ff\">None</span>, <span style=\"color: #00af00; text-decoration-color: #00af00\">2</span>)              │           <span style=\"color: #00af00; text-decoration-color: #00af00\">258</span> │\n",
              "└─────────────────────────────────┴────────────────────────┴───────────────┘\n",
              "</pre>\n"
            ]
          },
          "metadata": {}
        },
        {
          "output_type": "display_data",
          "data": {
            "text/plain": [
              "\u001b[1m Total params: \u001b[0m\u001b[38;5;34m103,688\u001b[0m (405.04 KB)\n"
            ],
            "text/html": [
              "<pre style=\"white-space:pre;overflow-x:auto;line-height:normal;font-family:Menlo,'DejaVu Sans Mono',consolas,'Courier New',monospace\"><span style=\"font-weight: bold\"> Total params: </span><span style=\"color: #00af00; text-decoration-color: #00af00\">103,688</span> (405.04 KB)\n",
              "</pre>\n"
            ]
          },
          "metadata": {}
        },
        {
          "output_type": "display_data",
          "data": {
            "text/plain": [
              "\u001b[1m Trainable params: \u001b[0m\u001b[38;5;34m34,562\u001b[0m (135.01 KB)\n"
            ],
            "text/html": [
              "<pre style=\"white-space:pre;overflow-x:auto;line-height:normal;font-family:Menlo,'DejaVu Sans Mono',consolas,'Courier New',monospace\"><span style=\"font-weight: bold\"> Trainable params: </span><span style=\"color: #00af00; text-decoration-color: #00af00\">34,562</span> (135.01 KB)\n",
              "</pre>\n"
            ]
          },
          "metadata": {}
        },
        {
          "output_type": "display_data",
          "data": {
            "text/plain": [
              "\u001b[1m Non-trainable params: \u001b[0m\u001b[38;5;34m0\u001b[0m (0.00 B)\n"
            ],
            "text/html": [
              "<pre style=\"white-space:pre;overflow-x:auto;line-height:normal;font-family:Menlo,'DejaVu Sans Mono',consolas,'Courier New',monospace\"><span style=\"font-weight: bold\"> Non-trainable params: </span><span style=\"color: #00af00; text-decoration-color: #00af00\">0</span> (0.00 B)\n",
              "</pre>\n"
            ]
          },
          "metadata": {}
        },
        {
          "output_type": "display_data",
          "data": {
            "text/plain": [
              "\u001b[1m Optimizer params: \u001b[0m\u001b[38;5;34m69,126\u001b[0m (270.03 KB)\n"
            ],
            "text/html": [
              "<pre style=\"white-space:pre;overflow-x:auto;line-height:normal;font-family:Menlo,'DejaVu Sans Mono',consolas,'Courier New',monospace\"><span style=\"font-weight: bold\"> Optimizer params: </span><span style=\"color: #00af00; text-decoration-color: #00af00\">69,126</span> (270.03 KB)\n",
              "</pre>\n"
            ]
          },
          "metadata": {}
        }
      ]
    },
    {
      "cell_type": "code",
      "source": [
        "# Plot training and validation loss\n",
        "plt.figure(figsize=(12, 6))\n",
        "plt.plot(history.history['loss'], label='Training Loss')\n",
        "if 'val_loss' in history.history:\n",
        "    plt.plot(history.history['val_loss'], label='Validation Loss')\n",
        "plt.title('Model Loss over Epochs')\n",
        "plt.xlabel('Epoch')\n",
        "plt.ylabel('Loss')\n",
        "plt.legend()\n",
        "plt.grid(True)\n",
        "plt.show()\n",
        "\n",
        "# Plot training and validation MAE\n",
        "plt.figure(figsize=(12, 6))\n",
        "plt.plot(history.history['mae'], label='Training MAE')\n",
        "if 'val_mae' in history.history:\n",
        "    plt.plot(history.history['val_mae'], label='Validation MAE')\n",
        "plt.title('Model MAE over Epochs')\n",
        "plt.xlabel('Epoch')\n",
        "plt.ylabel('MAE')\n",
        "plt.legend()\n",
        "plt.grid(True)\n",
        "plt.show()"
      ],
      "metadata": {
        "colab": {
          "base_uri": "https://localhost:8080/",
          "height": 1000
        },
        "id": "zZrdBy1KNcl2",
        "outputId": "2b11386c-9386-4244-c4f7-5a41514a5504"
      },
      "execution_count": null,
      "outputs": [
        {
          "output_type": "display_data",
          "data": {
            "text/plain": [
              "<Figure size 1200x600 with 1 Axes>"
            ],
            "image/png": "[encoded data removed]"
          },
          "metadata": {}
        },
        {
          "output_type": "display_data",
          "data": {
            "text/plain": [
              "<Figure size 1200x600 with 1 Axes>"
            ],
            "image/png": "[encoded data removed]"
          },
          "metadata": {}
        }
      ]
    },
    {
      "cell_type": "markdown",
      "source": [
        "**Differente optimizers**"
      ],
      "metadata": {
        "id": "EmDYxbsLkqp3"
      }
    },
    {
      "cell_type": "code",
      "source": [
        "# prompt: generer un benchmark de optimizers pour le bilstm model\n",
        "\n",
        "import matplotlib.pyplot as plt\n",
        "from tensorflow.keras.optimizers import Adam, RMSprop, Adagrad, Nadam, Ftrl, SGD\n",
        "\n",
        "def create_bilstm_model_optimizer(window_size, optimizer):\n",
        "    \"\"\"\n",
        "    Creates a Bidirectional LSTM model with a specified optimizer.\n",
        "\n",
        "    Args:\n",
        "        window_size (int): The size of the input window (sequence length).\n",
        "        optimizer: The Keras optimizer instance to use.\n",
        "\n",
        "    Returns:\n",
        "        tf.keras.models.Sequential: The compiled Keras model.\n",
        "    \"\"\"\n",
        "    model = tf.keras.models.Sequential([\n",
        "        Input(shape=(window_size, 2)),\n",
        "        Bidirectional(LSTM(64, activation='relu')),\n",
        "        Dense(2)\n",
        "    ])\n",
        "    # Compile with both loss and mae\n",
        "    model.compile(optimizer=optimizer, loss='mse', metrics=['mae'])\n",
        "    return model\n",
        "\n",
        "seq_length = 5\n",
        "epochs = 10\n",
        "batch_size = 8\n",
        "\n",
        "optimizers = {\n",
        "    'Adam': Adam(learning_rate=0.001),\n",
        "    'RMSprop': RMSprop(learning_rate=0.001),\n",
        "    'Adagrad': Adagrad(learning_rate=0.01),\n",
        "    'Nadam': Nadam(learning_rate=0.002),\n",
        "    'Ftrl': Ftrl(learning_rate=0.001),\n",
        "    'SGD': SGD(learning_rate=0.01),\n",
        "}\n",
        "\n",
        "optimizer_results = {}\n",
        "\n",
        "for opt_name, optimizer_instance in optimizers.items():\n",
        "    print(f\"\\n🚀 Training BiLSTM model with optimizer: {opt_name}\")\n",
        "\n",
        "    # Create a new model instance for each optimizer to ensure a clean state\n",
        "    model = create_bilstm_model_optimizer(seq_length, optimizer_instance)\n",
        "\n",
        "    # Use the train_model function (assuming it's appropriate for this model)\n",
        "    # train_model returns history, mae, mse (real-scale)\n",
        "    _, mae, mse = train_model(df, model, seq_length=seq_length, epochs=epochs, batch_size=batch_size, seed=42)\n",
        "\n",
        "    optimizer_results[opt_name] = {'mae': mae, 'mse': mse}\n",
        "    print(f'Optimizer: {opt_name} | Real-scale MAE = {mae:.4f} | Real-scale MSE = {mse:.4f}')\n",
        "\n",
        "\n",
        "# Plotting results\n",
        "optimizer_names = list(optimizer_results.keys())\n",
        "opt_maes = [optimizer_results[opt]['mae'] for opt in optimizer_names]\n",
        "opt_mses = [optimizer_results[opt]['mse'] for opt in optimizer_names]\n",
        "\n",
        "x = range(len(optimizer_names))\n",
        "width = 0.35\n",
        "\n",
        "plt.figure(figsize=(12, 6))\n",
        "plt.bar(x, opt_maes, width=width, label='Real-scale MAE', align='center')\n",
        "plt.bar([p + width for p in x], opt_mses, width=width, label='Real-scale MSE', align='center')\n",
        "\n",
        "plt.xlabel('Optimizers')\n",
        "plt.ylabel('Error (Real Scale)')\n",
        "plt.title('BiLSTM Model Performance Comparison Across Optimizers (Real Scale Metrics)')\n",
        "plt.xticks([p + width / 2 for p in x], optimizer_names, rotation=45)\n",
        "plt.legend()\n",
        "plt.tight_layout()\n",
        "plt.grid(True)\n",
        "plt.show()\n",
        "\n",
        "# Print results in a table format\n",
        "print(\"\\n--- Optimizer Benchmark Results ---\")\n",
        "print(\"{:<10} | {:<15} | {:<15}\".format(\"Optimizer\", \"Real-scale MAE\", \"Real-scale MSE\"))\n",
        "print(\"-\" * 45)\n",
        "for opt_name, metrics in optimizer_results.items():\n",
        "    print(\"{:<10} | {:<15.4f} | {:<15.4f}\".format(opt_name, metrics['mae'], metrics['mse']))\n"
      ],
      "metadata": {
        "colab": {
          "base_uri": "https://localhost:8080/",
          "height": 1000
        },
        "id": "b3e43ycektc6",
        "outputId": "8e61b209-babd-452c-ed89-5afff77fc5a4"
      },
      "execution_count": null,
      "outputs": [
        {
          "output_type": "stream",
          "name": "stdout",
          "text": [
            "\n",
            "🚀 Training BiLSTM model with optimizer: Adam\n",
            "skipped tornadoe : 37\n",
            "loss = 0.0000, mae = 0.0040\n",
            "\u001b[1m285/285\u001b[0m \u001b[32m━━━━━━━━━━━━━━━━━━━━\u001b[0m\u001b[37m\u001b[0m \u001b[1m1s\u001b[0m 3ms/step\n",
            "Optimizer: Adam | Real-scale MAE = 4.2693 | Real-scale MSE = 41.3673\n",
            "\n",
            "🚀 Training BiLSTM model with optimizer: RMSprop\n",
            "skipped tornadoe : 37\n",
            "loss = 0.0001, mae = 0.0078\n",
            "\u001b[1m285/285\u001b[0m \u001b[32m━━━━━━━━━━━━━━━━━━━━\u001b[0m\u001b[37m\u001b[0m \u001b[1m2s\u001b[0m 4ms/step\n",
            "Optimizer: RMSprop | Real-scale MAE = 9.0301 | Real-scale MSE = 154.0797\n",
            "\n",
            "🚀 Training BiLSTM model with optimizer: Adagrad\n",
            "skipped tornadoe : 37\n",
            "loss = 0.0009, mae = 0.0231\n",
            "\u001b[1m285/285\u001b[0m \u001b[32m━━━━━━━━━━━━━━━━━━━━\u001b[0m\u001b[37m\u001b[0m \u001b[1m1s\u001b[0m 3ms/step\n",
            "Optimizer: Adagrad | Real-scale MAE = 25.8452 | Real-scale MSE = 1275.2479\n",
            "\n",
            "🚀 Training BiLSTM model with optimizer: Nadam\n",
            "skipped tornadoe : 37\n",
            "loss = 0.0000, mae = 0.0049\n",
            "\u001b[1m285/285\u001b[0m \u001b[32m━━━━━━━━━━━━━━━━━━━━\u001b[0m\u001b[37m\u001b[0m \u001b[1m1s\u001b[0m 3ms/step\n",
            "Optimizer: Nadam | Real-scale MAE = 4.9257 | Real-scale MSE = 46.6625\n",
            "\n",
            "🚀 Training BiLSTM model with optimizer: Ftrl\n",
            "skipped tornadoe : 37\n",
            "loss = 0.0372, mae = 0.1532\n",
            "\u001b[1m285/285\u001b[0m \u001b[32m━━━━━━━━━━━━━━━━━━━━\u001b[0m\u001b[37m\u001b[0m \u001b[1m1s\u001b[0m 3ms/step\n",
            "Optimizer: Ftrl | Real-scale MAE = 155.6094 | Real-scale MSE = 34883.6641\n",
            "\n",
            "🚀 Training BiLSTM model with optimizer: SGD\n",
            "skipped tornadoe : 37\n",
            "loss = 0.0011, mae = 0.0241\n",
            "\u001b[1m285/285\u001b[0m \u001b[32m━━━━━━━━━━━━━━━━━━━━\u001b[0m\u001b[37m\u001b[0m \u001b[1m1s\u001b[0m 3ms/step\n",
            "Optimizer: SGD | Real-scale MAE = 26.5162 | Real-scale MSE = 1355.8380\n"
          ]
        },
        {
          "output_type": "display_data",
          "data": {
            "text/plain": [
              "<Figure size 1200x600 with 1 Axes>"
            ],
            "image/png": "[encoded data removed]"
          },
          "metadata": {}
        },
        {
          "output_type": "stream",
          "name": "stdout",
          "text": [
            "\n",
            "--- Optimizer Benchmark Results ---\n",
            "Optimizer  | Real-scale MAE  | Real-scale MSE \n",
            "---------------------------------------------\n",
            "Adam       | 4.2693          | 41.3673        \n",
            "RMSprop    | 9.0301          | 154.0797       \n",
            "Adagrad    | 25.8452         | 1275.2479      \n",
            "Nadam      | 4.9257          | 46.6625        \n",
            "Ftrl       | 155.6094        | 34883.6641     \n",
            "SGD        | 26.5162         | 1355.8380      \n"
          ]
        }
      ]
    }
  ]
}